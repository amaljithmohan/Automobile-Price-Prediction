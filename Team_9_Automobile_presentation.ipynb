{
  "nbformat": 4,
  "nbformat_minor": 0,
  "metadata": {
    "colab": {
      "provenance": []
    },
    "kernelspec": {
      "name": "python3",
      "display_name": "Python 3"
    }
  },
  "cells": [
    {
      "cell_type": "markdown",
      "metadata": {
        "id": "Jui0M6VlsnlT"
      },
      "source": [
        "# **Team 9: Automobile**"
      ]
    },
    {
      "cell_type": "markdown",
      "metadata": {
        "id": "thKwwgTAs6To"
      },
      "source": [
        "### Importing Libraries"
      ]
    },
    {
      "cell_type": "code",
      "metadata": {
        "id": "R2RQ8NpLr1SG"
      },
      "source": [
        "import numpy as np\n",
        "import pandas as pd\n",
        "import matplotlib.pyplot as plt\n",
        "import seaborn as sns\n",
        "from IPython.core.interactiveshell import InteractiveShell     #to print multiple output in single cell\n",
        "InteractiveShell.ast_node_interactivity = \"all\"\n",
        "import warnings\n",
        "warnings.filterwarnings('ignore')"
      ],
      "execution_count": null,
      "outputs": []
    },
    {
      "cell_type": "markdown",
      "metadata": {
        "id": "qNDKph-QteFs"
      },
      "source": [
        "### Importing Dataset"
      ]
    },
    {
      "cell_type": "code",
      "metadata": {
        "id": "R1iW6Urktkmi"
      },
      "source": [
        "data= pd.read_csv('/content/Automobile_data.csv')"
      ],
      "execution_count": null,
      "outputs": []
    },
    {
      "cell_type": "markdown",
      "metadata": {
        "id": "ceDloF-Gt_GM"
      },
      "source": [
        "### Summary of DataSet"
      ]
    },
    {
      "cell_type": "code",
      "metadata": {
        "colab": {
          "base_uri": "https://localhost:8080/",
          "height": 530
        },
        "id": "krHr88laxWix",
        "outputId": "2249ca59-ca7a-4a7e-b388-b3a59dc1a377"
      },
      "source": [
        "data.head()\n",
        "data.tail()"
      ],
      "execution_count": null,
      "outputs": [
        {
          "output_type": "execute_result",
          "data": {
            "text/html": [
              "<div>\n",
              "<style scoped>\n",
              "    .dataframe tbody tr th:only-of-type {\n",
              "        vertical-align: middle;\n",
              "    }\n",
              "\n",
              "    .dataframe tbody tr th {\n",
              "        vertical-align: top;\n",
              "    }\n",
              "\n",
              "    .dataframe thead th {\n",
              "        text-align: right;\n",
              "    }\n",
              "</style>\n",
              "<table border=\"1\" class=\"dataframe\">\n",
              "  <thead>\n",
              "    <tr style=\"text-align: right;\">\n",
              "      <th></th>\n",
              "      <th>symboling</th>\n",
              "      <th>normalized-losses</th>\n",
              "      <th>make</th>\n",
              "      <th>fuel-type</th>\n",
              "      <th>aspiration</th>\n",
              "      <th>num-of-doors</th>\n",
              "      <th>body-style</th>\n",
              "      <th>drive-wheels</th>\n",
              "      <th>engine-location</th>\n",
              "      <th>wheel-base</th>\n",
              "      <th>length</th>\n",
              "      <th>width</th>\n",
              "      <th>height</th>\n",
              "      <th>curb-weight</th>\n",
              "      <th>engine-type</th>\n",
              "      <th>num-of-cylinders</th>\n",
              "      <th>engine-size</th>\n",
              "      <th>fuel-system</th>\n",
              "      <th>bore</th>\n",
              "      <th>stroke</th>\n",
              "      <th>compression-ratio</th>\n",
              "      <th>horsepower</th>\n",
              "      <th>peak-rpm</th>\n",
              "      <th>city-mpg</th>\n",
              "      <th>highway-mpg</th>\n",
              "      <th>price</th>\n",
              "    </tr>\n",
              "  </thead>\n",
              "  <tbody>\n",
              "    <tr>\n",
              "      <th>0</th>\n",
              "      <td>3</td>\n",
              "      <td>?</td>\n",
              "      <td>alfa-romero</td>\n",
              "      <td>gas</td>\n",
              "      <td>std</td>\n",
              "      <td>two</td>\n",
              "      <td>convertible</td>\n",
              "      <td>rwd</td>\n",
              "      <td>front</td>\n",
              "      <td>88.6</td>\n",
              "      <td>168.8</td>\n",
              "      <td>64.1</td>\n",
              "      <td>48.8</td>\n",
              "      <td>2548</td>\n",
              "      <td>dohc</td>\n",
              "      <td>four</td>\n",
              "      <td>130</td>\n",
              "      <td>mpfi</td>\n",
              "      <td>3.47</td>\n",
              "      <td>2.68</td>\n",
              "      <td>9.0</td>\n",
              "      <td>111</td>\n",
              "      <td>5000</td>\n",
              "      <td>21</td>\n",
              "      <td>27</td>\n",
              "      <td>13495</td>\n",
              "    </tr>\n",
              "    <tr>\n",
              "      <th>1</th>\n",
              "      <td>3</td>\n",
              "      <td>?</td>\n",
              "      <td>alfa-romero</td>\n",
              "      <td>gas</td>\n",
              "      <td>std</td>\n",
              "      <td>two</td>\n",
              "      <td>convertible</td>\n",
              "      <td>rwd</td>\n",
              "      <td>front</td>\n",
              "      <td>88.6</td>\n",
              "      <td>168.8</td>\n",
              "      <td>64.1</td>\n",
              "      <td>48.8</td>\n",
              "      <td>2548</td>\n",
              "      <td>dohc</td>\n",
              "      <td>four</td>\n",
              "      <td>130</td>\n",
              "      <td>mpfi</td>\n",
              "      <td>3.47</td>\n",
              "      <td>2.68</td>\n",
              "      <td>9.0</td>\n",
              "      <td>111</td>\n",
              "      <td>5000</td>\n",
              "      <td>21</td>\n",
              "      <td>27</td>\n",
              "      <td>16500</td>\n",
              "    </tr>\n",
              "    <tr>\n",
              "      <th>2</th>\n",
              "      <td>1</td>\n",
              "      <td>?</td>\n",
              "      <td>alfa-romero</td>\n",
              "      <td>gas</td>\n",
              "      <td>std</td>\n",
              "      <td>two</td>\n",
              "      <td>hatchback</td>\n",
              "      <td>rwd</td>\n",
              "      <td>front</td>\n",
              "      <td>94.5</td>\n",
              "      <td>171.2</td>\n",
              "      <td>65.5</td>\n",
              "      <td>52.4</td>\n",
              "      <td>2823</td>\n",
              "      <td>ohcv</td>\n",
              "      <td>six</td>\n",
              "      <td>152</td>\n",
              "      <td>mpfi</td>\n",
              "      <td>2.68</td>\n",
              "      <td>3.47</td>\n",
              "      <td>9.0</td>\n",
              "      <td>154</td>\n",
              "      <td>5000</td>\n",
              "      <td>19</td>\n",
              "      <td>26</td>\n",
              "      <td>16500</td>\n",
              "    </tr>\n",
              "    <tr>\n",
              "      <th>3</th>\n",
              "      <td>2</td>\n",
              "      <td>164</td>\n",
              "      <td>audi</td>\n",
              "      <td>gas</td>\n",
              "      <td>std</td>\n",
              "      <td>four</td>\n",
              "      <td>sedan</td>\n",
              "      <td>fwd</td>\n",
              "      <td>front</td>\n",
              "      <td>99.8</td>\n",
              "      <td>176.6</td>\n",
              "      <td>66.2</td>\n",
              "      <td>54.3</td>\n",
              "      <td>2337</td>\n",
              "      <td>ohc</td>\n",
              "      <td>four</td>\n",
              "      <td>109</td>\n",
              "      <td>mpfi</td>\n",
              "      <td>3.19</td>\n",
              "      <td>3.4</td>\n",
              "      <td>10.0</td>\n",
              "      <td>102</td>\n",
              "      <td>5500</td>\n",
              "      <td>24</td>\n",
              "      <td>30</td>\n",
              "      <td>13950</td>\n",
              "    </tr>\n",
              "    <tr>\n",
              "      <th>4</th>\n",
              "      <td>2</td>\n",
              "      <td>164</td>\n",
              "      <td>audi</td>\n",
              "      <td>gas</td>\n",
              "      <td>std</td>\n",
              "      <td>four</td>\n",
              "      <td>sedan</td>\n",
              "      <td>4wd</td>\n",
              "      <td>front</td>\n",
              "      <td>99.4</td>\n",
              "      <td>176.6</td>\n",
              "      <td>66.4</td>\n",
              "      <td>54.3</td>\n",
              "      <td>2824</td>\n",
              "      <td>ohc</td>\n",
              "      <td>five</td>\n",
              "      <td>136</td>\n",
              "      <td>mpfi</td>\n",
              "      <td>3.19</td>\n",
              "      <td>3.4</td>\n",
              "      <td>8.0</td>\n",
              "      <td>115</td>\n",
              "      <td>5500</td>\n",
              "      <td>18</td>\n",
              "      <td>22</td>\n",
              "      <td>17450</td>\n",
              "    </tr>\n",
              "  </tbody>\n",
              "</table>\n",
              "</div>"
            ],
            "text/plain": [
              "   symboling normalized-losses         make  ... city-mpg highway-mpg  price\n",
              "0          3                 ?  alfa-romero  ...       21          27  13495\n",
              "1          3                 ?  alfa-romero  ...       21          27  16500\n",
              "2          1                 ?  alfa-romero  ...       19          26  16500\n",
              "3          2               164         audi  ...       24          30  13950\n",
              "4          2               164         audi  ...       18          22  17450\n",
              "\n",
              "[5 rows x 26 columns]"
            ]
          },
          "metadata": {
            "tags": []
          },
          "execution_count": 3
        },
        {
          "output_type": "execute_result",
          "data": {
            "text/html": [
              "<div>\n",
              "<style scoped>\n",
              "    .dataframe tbody tr th:only-of-type {\n",
              "        vertical-align: middle;\n",
              "    }\n",
              "\n",
              "    .dataframe tbody tr th {\n",
              "        vertical-align: top;\n",
              "    }\n",
              "\n",
              "    .dataframe thead th {\n",
              "        text-align: right;\n",
              "    }\n",
              "</style>\n",
              "<table border=\"1\" class=\"dataframe\">\n",
              "  <thead>\n",
              "    <tr style=\"text-align: right;\">\n",
              "      <th></th>\n",
              "      <th>symboling</th>\n",
              "      <th>normalized-losses</th>\n",
              "      <th>make</th>\n",
              "      <th>fuel-type</th>\n",
              "      <th>aspiration</th>\n",
              "      <th>num-of-doors</th>\n",
              "      <th>body-style</th>\n",
              "      <th>drive-wheels</th>\n",
              "      <th>engine-location</th>\n",
              "      <th>wheel-base</th>\n",
              "      <th>length</th>\n",
              "      <th>width</th>\n",
              "      <th>height</th>\n",
              "      <th>curb-weight</th>\n",
              "      <th>engine-type</th>\n",
              "      <th>num-of-cylinders</th>\n",
              "      <th>engine-size</th>\n",
              "      <th>fuel-system</th>\n",
              "      <th>bore</th>\n",
              "      <th>stroke</th>\n",
              "      <th>compression-ratio</th>\n",
              "      <th>horsepower</th>\n",
              "      <th>peak-rpm</th>\n",
              "      <th>city-mpg</th>\n",
              "      <th>highway-mpg</th>\n",
              "      <th>price</th>\n",
              "    </tr>\n",
              "  </thead>\n",
              "  <tbody>\n",
              "    <tr>\n",
              "      <th>200</th>\n",
              "      <td>-1</td>\n",
              "      <td>95</td>\n",
              "      <td>volvo</td>\n",
              "      <td>gas</td>\n",
              "      <td>std</td>\n",
              "      <td>four</td>\n",
              "      <td>sedan</td>\n",
              "      <td>rwd</td>\n",
              "      <td>front</td>\n",
              "      <td>109.1</td>\n",
              "      <td>188.8</td>\n",
              "      <td>68.9</td>\n",
              "      <td>55.5</td>\n",
              "      <td>2952</td>\n",
              "      <td>ohc</td>\n",
              "      <td>four</td>\n",
              "      <td>141</td>\n",
              "      <td>mpfi</td>\n",
              "      <td>3.78</td>\n",
              "      <td>3.15</td>\n",
              "      <td>9.5</td>\n",
              "      <td>114</td>\n",
              "      <td>5400</td>\n",
              "      <td>23</td>\n",
              "      <td>28</td>\n",
              "      <td>16845</td>\n",
              "    </tr>\n",
              "    <tr>\n",
              "      <th>201</th>\n",
              "      <td>-1</td>\n",
              "      <td>95</td>\n",
              "      <td>volvo</td>\n",
              "      <td>gas</td>\n",
              "      <td>turbo</td>\n",
              "      <td>four</td>\n",
              "      <td>sedan</td>\n",
              "      <td>rwd</td>\n",
              "      <td>front</td>\n",
              "      <td>109.1</td>\n",
              "      <td>188.8</td>\n",
              "      <td>68.8</td>\n",
              "      <td>55.5</td>\n",
              "      <td>3049</td>\n",
              "      <td>ohc</td>\n",
              "      <td>four</td>\n",
              "      <td>141</td>\n",
              "      <td>mpfi</td>\n",
              "      <td>3.78</td>\n",
              "      <td>3.15</td>\n",
              "      <td>8.7</td>\n",
              "      <td>160</td>\n",
              "      <td>5300</td>\n",
              "      <td>19</td>\n",
              "      <td>25</td>\n",
              "      <td>19045</td>\n",
              "    </tr>\n",
              "    <tr>\n",
              "      <th>202</th>\n",
              "      <td>-1</td>\n",
              "      <td>95</td>\n",
              "      <td>volvo</td>\n",
              "      <td>gas</td>\n",
              "      <td>std</td>\n",
              "      <td>four</td>\n",
              "      <td>sedan</td>\n",
              "      <td>rwd</td>\n",
              "      <td>front</td>\n",
              "      <td>109.1</td>\n",
              "      <td>188.8</td>\n",
              "      <td>68.9</td>\n",
              "      <td>55.5</td>\n",
              "      <td>3012</td>\n",
              "      <td>ohcv</td>\n",
              "      <td>six</td>\n",
              "      <td>173</td>\n",
              "      <td>mpfi</td>\n",
              "      <td>3.58</td>\n",
              "      <td>2.87</td>\n",
              "      <td>8.8</td>\n",
              "      <td>134</td>\n",
              "      <td>5500</td>\n",
              "      <td>18</td>\n",
              "      <td>23</td>\n",
              "      <td>21485</td>\n",
              "    </tr>\n",
              "    <tr>\n",
              "      <th>203</th>\n",
              "      <td>-1</td>\n",
              "      <td>95</td>\n",
              "      <td>volvo</td>\n",
              "      <td>diesel</td>\n",
              "      <td>turbo</td>\n",
              "      <td>four</td>\n",
              "      <td>sedan</td>\n",
              "      <td>rwd</td>\n",
              "      <td>front</td>\n",
              "      <td>109.1</td>\n",
              "      <td>188.8</td>\n",
              "      <td>68.9</td>\n",
              "      <td>55.5</td>\n",
              "      <td>3217</td>\n",
              "      <td>ohc</td>\n",
              "      <td>six</td>\n",
              "      <td>145</td>\n",
              "      <td>idi</td>\n",
              "      <td>3.01</td>\n",
              "      <td>3.4</td>\n",
              "      <td>23.0</td>\n",
              "      <td>106</td>\n",
              "      <td>4800</td>\n",
              "      <td>26</td>\n",
              "      <td>27</td>\n",
              "      <td>22470</td>\n",
              "    </tr>\n",
              "    <tr>\n",
              "      <th>204</th>\n",
              "      <td>-1</td>\n",
              "      <td>95</td>\n",
              "      <td>volvo</td>\n",
              "      <td>gas</td>\n",
              "      <td>turbo</td>\n",
              "      <td>four</td>\n",
              "      <td>sedan</td>\n",
              "      <td>rwd</td>\n",
              "      <td>front</td>\n",
              "      <td>109.1</td>\n",
              "      <td>188.8</td>\n",
              "      <td>68.9</td>\n",
              "      <td>55.5</td>\n",
              "      <td>3062</td>\n",
              "      <td>ohc</td>\n",
              "      <td>four</td>\n",
              "      <td>141</td>\n",
              "      <td>mpfi</td>\n",
              "      <td>3.78</td>\n",
              "      <td>3.15</td>\n",
              "      <td>9.5</td>\n",
              "      <td>114</td>\n",
              "      <td>5400</td>\n",
              "      <td>19</td>\n",
              "      <td>25</td>\n",
              "      <td>22625</td>\n",
              "    </tr>\n",
              "  </tbody>\n",
              "</table>\n",
              "</div>"
            ],
            "text/plain": [
              "     symboling normalized-losses   make  ... city-mpg highway-mpg  price\n",
              "200         -1                95  volvo  ...       23          28  16845\n",
              "201         -1                95  volvo  ...       19          25  19045\n",
              "202         -1                95  volvo  ...       18          23  21485\n",
              "203         -1                95  volvo  ...       26          27  22470\n",
              "204         -1                95  volvo  ...       19          25  22625\n",
              "\n",
              "[5 rows x 26 columns]"
            ]
          },
          "metadata": {
            "tags": []
          },
          "execution_count": 3
        }
      ]
    },
    {
      "cell_type": "code",
      "metadata": {
        "colab": {
          "base_uri": "https://localhost:8080/"
        },
        "id": "fGTvpAfpuk3Z",
        "outputId": "9feffdb8-fe47-49f4-834b-9b9a18f97faa"
      },
      "source": [
        "data.shape"
      ],
      "execution_count": null,
      "outputs": [
        {
          "output_type": "execute_result",
          "data": {
            "text/plain": [
              "(205, 26)"
            ]
          },
          "metadata": {
            "tags": []
          },
          "execution_count": 3
        }
      ]
    },
    {
      "cell_type": "markdown",
      "metadata": {
        "id": "HtHuFY8OuoNK"
      },
      "source": [
        "*dataset consist of 205 rows and 26 columns*"
      ]
    },
    {
      "cell_type": "code",
      "metadata": {
        "colab": {
          "base_uri": "https://localhost:8080/"
        },
        "id": "nsqiyfwsulnl",
        "outputId": "b2721e15-57c4-4d61-c6c3-3475b2b48056"
      },
      "source": [
        "data.info()   #summary of a DataFrame"
      ],
      "execution_count": null,
      "outputs": [
        {
          "output_type": "stream",
          "text": [
            "<class 'pandas.core.frame.DataFrame'>\n",
            "RangeIndex: 205 entries, 0 to 204\n",
            "Data columns (total 26 columns):\n",
            " #   Column             Non-Null Count  Dtype  \n",
            "---  ------             --------------  -----  \n",
            " 0   symboling          205 non-null    int64  \n",
            " 1   normalized-losses  205 non-null    object \n",
            " 2   make               205 non-null    object \n",
            " 3   fuel-type          205 non-null    object \n",
            " 4   aspiration         205 non-null    object \n",
            " 5   num-of-doors       205 non-null    object \n",
            " 6   body-style         205 non-null    object \n",
            " 7   drive-wheels       205 non-null    object \n",
            " 8   engine-location    205 non-null    object \n",
            " 9   wheel-base         205 non-null    float64\n",
            " 10  length             205 non-null    float64\n",
            " 11  width              205 non-null    float64\n",
            " 12  height             205 non-null    float64\n",
            " 13  curb-weight        205 non-null    int64  \n",
            " 14  engine-type        205 non-null    object \n",
            " 15  num-of-cylinders   205 non-null    object \n",
            " 16  engine-size        205 non-null    int64  \n",
            " 17  fuel-system        205 non-null    object \n",
            " 18  bore               205 non-null    object \n",
            " 19  stroke             205 non-null    object \n",
            " 20  compression-ratio  205 non-null    float64\n",
            " 21  horsepower         205 non-null    object \n",
            " 22  peak-rpm           205 non-null    object \n",
            " 23  city-mpg           205 non-null    int64  \n",
            " 24  highway-mpg        205 non-null    int64  \n",
            " 25  price              205 non-null    object \n",
            "dtypes: float64(5), int64(5), object(16)\n",
            "memory usage: 41.8+ KB\n"
          ],
          "name": "stdout"
        }
      ]
    },
    {
      "cell_type": "markdown",
      "metadata": {
        "id": "58RBoGHUu2tD"
      },
      "source": [
        "*datatypes of some columns are having incorrect datatype*"
      ]
    },
    {
      "cell_type": "markdown",
      "metadata": {
        "id": "uuLRbcRDu72J"
      },
      "source": [
        "### Dealing with incorrect datatype"
      ]
    },
    {
      "cell_type": "code",
      "metadata": {
        "colab": {
          "base_uri": "https://localhost:8080/"
        },
        "id": "dmvrKUVwhc0A",
        "outputId": "ed2544b7-6809-4981-9266-feba48d05e6a"
      },
      "source": [
        "data.isna().sum()"
      ],
      "execution_count": null,
      "outputs": [
        {
          "output_type": "execute_result",
          "data": {
            "text/plain": [
              "symboling            0\n",
              "normalized-losses    0\n",
              "make                 0\n",
              "fuel-type            0\n",
              "aspiration           0\n",
              "num-of-doors         0\n",
              "body-style           0\n",
              "drive-wheels         0\n",
              "engine-location      0\n",
              "wheel-base           0\n",
              "length               0\n",
              "width                0\n",
              "height               0\n",
              "curb-weight          0\n",
              "engine-type          0\n",
              "num-of-cylinders     0\n",
              "engine-size          0\n",
              "fuel-system          0\n",
              "bore                 0\n",
              "stroke               0\n",
              "compression-ratio    0\n",
              "horsepower           0\n",
              "peak-rpm             0\n",
              "city-mpg             0\n",
              "highway-mpg          0\n",
              "price                0\n",
              "dtype: int64"
            ]
          },
          "metadata": {
            "tags": []
          },
          "execution_count": 45
        }
      ]
    },
    {
      "cell_type": "code",
      "metadata": {
        "id": "NQMnWNzKu38X"
      },
      "source": [
        "data.replace(\"?\", np.nan, inplace = True)   #to convert datatype , \"?\" should be replaced by nan value"
      ],
      "execution_count": null,
      "outputs": []
    },
    {
      "cell_type": "code",
      "metadata": {
        "id": "bmIS4_wSvGy3"
      },
      "source": [
        "data[['normalized-losses','bore','stroke','horsepower', 'peak-rpm', 'price']]=data[['normalized-losses',\n",
        "'bore','stroke','horsepower', 'peak-rpm', 'price']].astype('float64')                      #converting incorrect datatypes"
      ],
      "execution_count": null,
      "outputs": []
    },
    {
      "cell_type": "markdown",
      "metadata": {
        "id": "_DaITtvfviGa"
      },
      "source": [
        "### Handling Missing values"
      ]
    },
    {
      "cell_type": "code",
      "metadata": {
        "colab": {
          "base_uri": "https://localhost:8080/"
        },
        "id": "jTIJC9Z5vmRm",
        "outputId": "68aaf95a-0dc2-4170-8d5d-706e71580a2f"
      },
      "source": [
        "data.isna().sum()"
      ],
      "execution_count": null,
      "outputs": [
        {
          "output_type": "execute_result",
          "data": {
            "text/plain": [
              "symboling             0\n",
              "normalized-losses    41\n",
              "make                  0\n",
              "fuel-type             0\n",
              "aspiration            0\n",
              "num-of-doors          2\n",
              "body-style            0\n",
              "drive-wheels          0\n",
              "engine-location       0\n",
              "wheel-base            0\n",
              "length                0\n",
              "width                 0\n",
              "height                0\n",
              "curb-weight           0\n",
              "engine-type           0\n",
              "num-of-cylinders      0\n",
              "engine-size           0\n",
              "fuel-system           0\n",
              "bore                  4\n",
              "stroke                4\n",
              "compression-ratio     0\n",
              "horsepower            2\n",
              "peak-rpm              2\n",
              "city-mpg              0\n",
              "highway-mpg           0\n",
              "price                 4\n",
              "dtype: int64"
            ]
          },
          "metadata": {
            "tags": []
          },
          "execution_count": 48
        }
      ]
    },
    {
      "cell_type": "markdown",
      "metadata": {
        "id": "1acpjDQqv_am"
      },
      "source": [
        "*so we can see missing values in normalized-losses,num-of-doors,bore,stroke,horsepower,peak-rpm,price*"
      ]
    },
    {
      "cell_type": "markdown",
      "metadata": {
        "id": "GfPnBaJ3wKMX"
      },
      "source": [
        "1. num of doors"
      ]
    },
    {
      "cell_type": "markdown",
      "metadata": {
        "id": "zCxGvwrVwelU"
      },
      "source": [
        "*filling missing values in numof door by using values with respect to body style*"
      ]
    },
    {
      "cell_type": "code",
      "metadata": {
        "id": "MxeWQZIrwEta"
      },
      "source": [
        "data['num-of-doors'] = data['num-of-doors'].fillna(data['body-style'].map({'sedan':'four', \n",
        "                                                                        'hatchback':'two', 'convertible': 'two'}))"
      ],
      "execution_count": null,
      "outputs": []
    },
    {
      "cell_type": "markdown",
      "metadata": {
        "id": "uCYaXMmKwjth"
      },
      "source": [
        "2. normalized losses"
      ]
    },
    {
      "cell_type": "code",
      "metadata": {
        "id": "7windkgAwTLT"
      },
      "source": [
        "data['normalized-losses'] = data['normalized-losses'].fillna(data['normalized-losses'].mean())"
      ],
      "execution_count": null,
      "outputs": []
    },
    {
      "cell_type": "markdown",
      "metadata": {
        "id": "mHOHe7_yxTWZ"
      },
      "source": [
        "3. Bore "
      ]
    },
    {
      "cell_type": "code",
      "metadata": {
        "id": "oj35m-LuxVwO"
      },
      "source": [
        "data['bore'] = data['bore'].fillna(data.groupby('make')['bore'].transform('mean'))"
      ],
      "execution_count": null,
      "outputs": []
    },
    {
      "cell_type": "markdown",
      "metadata": {
        "id": "JPupoiglxcPY"
      },
      "source": [
        "4. Stroke"
      ]
    },
    {
      "cell_type": "code",
      "metadata": {
        "id": "sTHjY90hxdOb"
      },
      "source": [
        "data['stroke'] = data['stroke'].fillna(data.groupby('make')['stroke'].transform('mean'))"
      ],
      "execution_count": null,
      "outputs": []
    },
    {
      "cell_type": "markdown",
      "metadata": {
        "id": "6vx0IIMuxi3b"
      },
      "source": [
        "5. Horsepower"
      ]
    },
    {
      "cell_type": "code",
      "metadata": {
        "id": "pNEe27EoxlHh"
      },
      "source": [
        "data['horsepower'] = data['horsepower'].fillna(data['horsepower'].mean())"
      ],
      "execution_count": null,
      "outputs": []
    },
    {
      "cell_type": "markdown",
      "metadata": {
        "id": "ffDs8WEjyV2e"
      },
      "source": [
        "6. peak rpm"
      ]
    },
    {
      "cell_type": "code",
      "metadata": {
        "id": "6bxV2BOLyVXS"
      },
      "source": [
        "data['peak-rpm'] = data['peak-rpm'].fillna(data['peak-rpm'].mean())"
      ],
      "execution_count": null,
      "outputs": []
    },
    {
      "cell_type": "markdown",
      "metadata": {
        "id": "XLBYTO52yt5k"
      },
      "source": [
        "7. Price"
      ]
    },
    {
      "cell_type": "code",
      "metadata": {
        "id": "oAaF8WG65oZJ"
      },
      "source": [
        "data['price'] = data['price'].fillna(data['price'].mean())"
      ],
      "execution_count": null,
      "outputs": []
    },
    {
      "cell_type": "markdown",
      "metadata": {
        "id": "KEiZFc245rha"
      },
      "source": [
        "*Tried median ,but no improvement in accuracy*"
      ]
    },
    {
      "cell_type": "markdown",
      "metadata": {
        "id": "TF_4-b4o55_-"
      },
      "source": [
        "*Checking for null values again*"
      ]
    },
    {
      "cell_type": "code",
      "metadata": {
        "colab": {
          "base_uri": "https://localhost:8080/"
        },
        "id": "jRK6bB185xD0",
        "outputId": "f27890a1-094e-4b8c-ee74-1364ec16c9d8"
      },
      "source": [
        "data.isna().sum()"
      ],
      "execution_count": null,
      "outputs": [
        {
          "output_type": "execute_result",
          "data": {
            "text/plain": [
              "symboling            0\n",
              "normalized-losses    0\n",
              "make                 0\n",
              "fuel-type            0\n",
              "aspiration           0\n",
              "num-of-doors         0\n",
              "body-style           0\n",
              "drive-wheels         0\n",
              "engine-location      0\n",
              "wheel-base           0\n",
              "length               0\n",
              "width                0\n",
              "height               0\n",
              "curb-weight          0\n",
              "engine-type          0\n",
              "num-of-cylinders     0\n",
              "engine-size          0\n",
              "fuel-system          0\n",
              "bore                 0\n",
              "stroke               0\n",
              "compression-ratio    0\n",
              "horsepower           0\n",
              "peak-rpm             0\n",
              "city-mpg             0\n",
              "highway-mpg          0\n",
              "price                0\n",
              "dtype: int64"
            ]
          },
          "metadata": {
            "tags": []
          },
          "execution_count": 56
        }
      ]
    },
    {
      "cell_type": "markdown",
      "metadata": {
        "id": "pNtBfMN36on6"
      },
      "source": [
        "### Checking for outliers"
      ]
    },
    {
      "cell_type": "markdown",
      "metadata": {
        "id": "mP-Qvpfx6vye"
      },
      "source": [
        "*creating a variable with all numerical columns*"
      ]
    },
    {
      "cell_type": "code",
      "metadata": {
        "id": "itxrYruI6q-Z"
      },
      "source": [
        "num_var = ['symboling','normalized-losses','wheel-base','length','width','height'\n",
        ",'curb-weight','engine-size','bore','stroke','compression-ratio'\n",
        ",'horsepower','peak-rpm','city-mpg','highway-mpg']"
      ],
      "execution_count": null,
      "outputs": []
    },
    {
      "cell_type": "markdown",
      "metadata": {
        "id": "TxOrYrWr7AQ1"
      },
      "source": [
        "*creating 2 variables for easy plotting of box plot for checking outliers*"
      ]
    },
    {
      "cell_type": "code",
      "metadata": {
        "id": "4H-aJZX868HV"
      },
      "source": [
        "var11=data[['normalized-losses','wheel-base','length','width','engine-size']]\n",
        "var12=data[['compression-ratio','horsepower','city-mpg','highway-mpg']]"
      ],
      "execution_count": null,
      "outputs": []
    },
    {
      "cell_type": "code",
      "metadata": {
        "colab": {
          "base_uri": "https://localhost:8080/",
          "height": 483
        },
        "id": "lkjAYXOX7Uk-",
        "outputId": "f7c2084b-5182-4c93-f1d1-be58175324f9"
      },
      "source": [
        "plt.subplots(figsize = (10,8))\n",
        "plt.subplot(2,1,1)\n",
        "sns.boxplot(data=var11)\n",
        "plt.subplot(2,1,2)\n",
        "sns.boxplot(data=var12)\n",
        "\n",
        "plt.show();"
      ],
      "execution_count": null,
      "outputs": [
        {
          "output_type": "display_data",
          "data": {
            "image/png": "[encoded data removed]",
            "text/plain": [
              "<Figure size 720x576 with 2 Axes>"
            ]
          },
          "metadata": {
            "tags": [],
            "needs_background": "light"
          }
        }
      ]
    },
    {
      "cell_type": "markdown",
      "metadata": {
        "id": "Q9o-LLJj7aeZ"
      },
      "source": [
        "*we can see outliers*"
      ]
    },
    {
      "cell_type": "code",
      "metadata": {
        "id": "lJCl-Dmh7b0Z"
      },
      "source": [
        "# for i in num_var:                                               #using for loop outliers in the list num_var are removed with the help of np.where fn\n",
        "#   Q1 = data[i].quantile(0.25)\n",
        "#   Q3 = data[i].quantile(0.75)\n",
        "#   IQR = Q3 - Q1\n",
        "#   data[i] = np.where(data[i]>(Q3+1.5*IQR),(Q3+1.5*IQR),data[i])\n",
        "#   data[i] = np.where(data[i]<(Q1-1.5*IQR),(Q1-1.5*IQR),data[i])"
      ],
      "execution_count": null,
      "outputs": []
    },
    {
      "cell_type": "markdown",
      "metadata": {
        "id": "zPZ1_yONJqoL"
      },
      "source": [
        "*Removing outliers doesnot making any impact in model accuracy since dataset is small*"
      ]
    },
    {
      "cell_type": "markdown",
      "metadata": {
        "id": "Dy-7T2uk73uu"
      },
      "source": [
        "### checking for feature reduction ,feature addition"
      ]
    },
    {
      "cell_type": "code",
      "metadata": {
        "id": "GWHsJ2vL8AUY"
      },
      "source": [
        "# data['engine-location'].value_counts()"
      ],
      "execution_count": null,
      "outputs": []
    },
    {
      "cell_type": "code",
      "metadata": {
        "id": "bxvzV-ix8FSz"
      },
      "source": [
        "# data['mean_mpg'] = (data['highway-mpg']+data['city-mpg'])/2  "
      ],
      "execution_count": null,
      "outputs": []
    },
    {
      "cell_type": "code",
      "metadata": {
        "id": "9IHQ1AA28InU"
      },
      "source": [
        "# data.columns"
      ],
      "execution_count": null,
      "outputs": []
    },
    {
      "cell_type": "code",
      "metadata": {
        "id": "QJ-x_KZW8LnV"
      },
      "source": [
        "# data.drop(['city-mpg','highway-mpg'],axis=1,inplace=True)"
      ],
      "execution_count": null,
      "outputs": []
    },
    {
      "cell_type": "markdown",
      "metadata": {
        "id": "AimgNgyF8dOk"
      },
      "source": [
        "*accuracy is not improved since dataset is small*"
      ]
    },
    {
      "cell_type": "markdown",
      "metadata": {
        "id": "D7Ljx2xL8b-7"
      },
      "source": [
        "### mapping values"
      ]
    },
    {
      "cell_type": "code",
      "metadata": {
        "id": "ETbPfFu083ZS"
      },
      "source": [
        "data['num-of-doors'] = data['num-of-doors'].map({'two':2,'four': 4}) "
      ],
      "execution_count": null,
      "outputs": []
    },
    {
      "cell_type": "code",
      "metadata": {
        "id": "WiOOSGc289Zy"
      },
      "source": [
        "data['num-of-cylinders'] = data['num-of-cylinders'].map({'two':2, 'three':3, 'four': 4, 'five':5, 'six':6, 'eight':8, 'twelve':12}) "
      ],
      "execution_count": null,
      "outputs": []
    },
    {
      "cell_type": "markdown",
      "metadata": {
        "id": "tdZatiTk9AVr"
      },
      "source": [
        "*changing text values to numerical beacause it will reduce column numbers after encoding*"
      ]
    },
    {
      "cell_type": "markdown",
      "metadata": {
        "id": "Cm8ihmDtkBZU"
      },
      "source": [
        "## **Exploratory Data Analysis**"
      ]
    },
    {
      "cell_type": "markdown",
      "metadata": {
        "id": "rMD-HSPGjw9J"
      },
      "source": [
        "summary statistics of data"
      ]
    },
    {
      "cell_type": "code",
      "metadata": {
        "colab": {
          "base_uri": "https://localhost:8080/",
          "height": 324
        },
        "id": "icD_hySLjfMJ",
        "outputId": "df81af3b-ea22-4852-d2a4-2714c184ab77"
      },
      "source": [
        "data.describe()"
      ],
      "execution_count": null,
      "outputs": [
        {
          "output_type": "execute_result",
          "data": {
            "text/html": [
              "<div>\n",
              "<style scoped>\n",
              "    .dataframe tbody tr th:only-of-type {\n",
              "        vertical-align: middle;\n",
              "    }\n",
              "\n",
              "    .dataframe tbody tr th {\n",
              "        vertical-align: top;\n",
              "    }\n",
              "\n",
              "    .dataframe thead th {\n",
              "        text-align: right;\n",
              "    }\n",
              "</style>\n",
              "<table border=\"1\" class=\"dataframe\">\n",
              "  <thead>\n",
              "    <tr style=\"text-align: right;\">\n",
              "      <th></th>\n",
              "      <th>symboling</th>\n",
              "      <th>normalized-losses</th>\n",
              "      <th>num-of-doors</th>\n",
              "      <th>wheel-base</th>\n",
              "      <th>length</th>\n",
              "      <th>width</th>\n",
              "      <th>height</th>\n",
              "      <th>curb-weight</th>\n",
              "      <th>num-of-cylinders</th>\n",
              "      <th>engine-size</th>\n",
              "      <th>bore</th>\n",
              "      <th>stroke</th>\n",
              "      <th>compression-ratio</th>\n",
              "      <th>horsepower</th>\n",
              "      <th>peak-rpm</th>\n",
              "      <th>city-mpg</th>\n",
              "      <th>highway-mpg</th>\n",
              "      <th>price</th>\n",
              "    </tr>\n",
              "  </thead>\n",
              "  <tbody>\n",
              "    <tr>\n",
              "      <th>count</th>\n",
              "      <td>205.000000</td>\n",
              "      <td>205.000000</td>\n",
              "      <td>205.000000</td>\n",
              "      <td>205.000000</td>\n",
              "      <td>205.000000</td>\n",
              "      <td>205.000000</td>\n",
              "      <td>205.000000</td>\n",
              "      <td>205.000000</td>\n",
              "      <td>205.000000</td>\n",
              "      <td>205.000000</td>\n",
              "      <td>205.000000</td>\n",
              "      <td>205.000000</td>\n",
              "      <td>205.000000</td>\n",
              "      <td>205.000000</td>\n",
              "      <td>205.000000</td>\n",
              "      <td>205.000000</td>\n",
              "      <td>205.000000</td>\n",
              "      <td>205.000000</td>\n",
              "    </tr>\n",
              "    <tr>\n",
              "      <th>mean</th>\n",
              "      <td>0.834146</td>\n",
              "      <td>122.000000</td>\n",
              "      <td>3.131707</td>\n",
              "      <td>98.756585</td>\n",
              "      <td>174.049268</td>\n",
              "      <td>65.907805</td>\n",
              "      <td>53.724878</td>\n",
              "      <td>2555.565854</td>\n",
              "      <td>4.380488</td>\n",
              "      <td>126.907317</td>\n",
              "      <td>3.328916</td>\n",
              "      <td>3.256278</td>\n",
              "      <td>10.142537</td>\n",
              "      <td>104.256158</td>\n",
              "      <td>5125.369458</td>\n",
              "      <td>25.219512</td>\n",
              "      <td>30.751220</td>\n",
              "      <td>13207.129353</td>\n",
              "    </tr>\n",
              "    <tr>\n",
              "      <th>std</th>\n",
              "      <td>1.245307</td>\n",
              "      <td>31.681008</td>\n",
              "      <td>0.993715</td>\n",
              "      <td>6.021776</td>\n",
              "      <td>12.337289</td>\n",
              "      <td>2.145204</td>\n",
              "      <td>2.443522</td>\n",
              "      <td>520.680204</td>\n",
              "      <td>1.080854</td>\n",
              "      <td>41.642693</td>\n",
              "      <td>0.270909</td>\n",
              "      <td>0.313656</td>\n",
              "      <td>3.972040</td>\n",
              "      <td>39.519211</td>\n",
              "      <td>476.979093</td>\n",
              "      <td>6.542142</td>\n",
              "      <td>6.886443</td>\n",
              "      <td>7868.768212</td>\n",
              "    </tr>\n",
              "    <tr>\n",
              "      <th>min</th>\n",
              "      <td>-2.000000</td>\n",
              "      <td>65.000000</td>\n",
              "      <td>2.000000</td>\n",
              "      <td>86.600000</td>\n",
              "      <td>141.100000</td>\n",
              "      <td>60.300000</td>\n",
              "      <td>47.800000</td>\n",
              "      <td>1488.000000</td>\n",
              "      <td>2.000000</td>\n",
              "      <td>61.000000</td>\n",
              "      <td>2.540000</td>\n",
              "      <td>2.070000</td>\n",
              "      <td>7.000000</td>\n",
              "      <td>48.000000</td>\n",
              "      <td>4150.000000</td>\n",
              "      <td>13.000000</td>\n",
              "      <td>16.000000</td>\n",
              "      <td>5118.000000</td>\n",
              "    </tr>\n",
              "    <tr>\n",
              "      <th>25%</th>\n",
              "      <td>0.000000</td>\n",
              "      <td>101.000000</td>\n",
              "      <td>2.000000</td>\n",
              "      <td>94.500000</td>\n",
              "      <td>166.300000</td>\n",
              "      <td>64.100000</td>\n",
              "      <td>52.000000</td>\n",
              "      <td>2145.000000</td>\n",
              "      <td>4.000000</td>\n",
              "      <td>97.000000</td>\n",
              "      <td>3.150000</td>\n",
              "      <td>3.110000</td>\n",
              "      <td>8.600000</td>\n",
              "      <td>70.000000</td>\n",
              "      <td>4800.000000</td>\n",
              "      <td>19.000000</td>\n",
              "      <td>25.000000</td>\n",
              "      <td>7788.000000</td>\n",
              "    </tr>\n",
              "    <tr>\n",
              "      <th>50%</th>\n",
              "      <td>1.000000</td>\n",
              "      <td>122.000000</td>\n",
              "      <td>4.000000</td>\n",
              "      <td>97.000000</td>\n",
              "      <td>173.200000</td>\n",
              "      <td>65.500000</td>\n",
              "      <td>54.100000</td>\n",
              "      <td>2414.000000</td>\n",
              "      <td>4.000000</td>\n",
              "      <td>120.000000</td>\n",
              "      <td>3.310000</td>\n",
              "      <td>3.290000</td>\n",
              "      <td>9.000000</td>\n",
              "      <td>95.000000</td>\n",
              "      <td>5200.000000</td>\n",
              "      <td>24.000000</td>\n",
              "      <td>30.000000</td>\n",
              "      <td>10595.000000</td>\n",
              "    </tr>\n",
              "    <tr>\n",
              "      <th>75%</th>\n",
              "      <td>2.000000</td>\n",
              "      <td>137.000000</td>\n",
              "      <td>4.000000</td>\n",
              "      <td>102.400000</td>\n",
              "      <td>183.100000</td>\n",
              "      <td>66.900000</td>\n",
              "      <td>55.500000</td>\n",
              "      <td>2935.000000</td>\n",
              "      <td>4.000000</td>\n",
              "      <td>141.000000</td>\n",
              "      <td>3.580000</td>\n",
              "      <td>3.410000</td>\n",
              "      <td>9.400000</td>\n",
              "      <td>116.000000</td>\n",
              "      <td>5500.000000</td>\n",
              "      <td>30.000000</td>\n",
              "      <td>34.000000</td>\n",
              "      <td>16500.000000</td>\n",
              "    </tr>\n",
              "    <tr>\n",
              "      <th>max</th>\n",
              "      <td>3.000000</td>\n",
              "      <td>256.000000</td>\n",
              "      <td>4.000000</td>\n",
              "      <td>120.900000</td>\n",
              "      <td>208.100000</td>\n",
              "      <td>72.300000</td>\n",
              "      <td>59.800000</td>\n",
              "      <td>4066.000000</td>\n",
              "      <td>12.000000</td>\n",
              "      <td>326.000000</td>\n",
              "      <td>3.940000</td>\n",
              "      <td>4.170000</td>\n",
              "      <td>23.000000</td>\n",
              "      <td>288.000000</td>\n",
              "      <td>6600.000000</td>\n",
              "      <td>49.000000</td>\n",
              "      <td>54.000000</td>\n",
              "      <td>45400.000000</td>\n",
              "    </tr>\n",
              "  </tbody>\n",
              "</table>\n",
              "</div>"
            ],
            "text/plain": [
              "        symboling  normalized-losses  ...  highway-mpg         price\n",
              "count  205.000000         205.000000  ...   205.000000    205.000000\n",
              "mean     0.834146         122.000000  ...    30.751220  13207.129353\n",
              "std      1.245307          31.681008  ...     6.886443   7868.768212\n",
              "min     -2.000000          65.000000  ...    16.000000   5118.000000\n",
              "25%      0.000000         101.000000  ...    25.000000   7788.000000\n",
              "50%      1.000000         122.000000  ...    30.000000  10595.000000\n",
              "75%      2.000000         137.000000  ...    34.000000  16500.000000\n",
              "max      3.000000         256.000000  ...    54.000000  45400.000000\n",
              "\n",
              "[8 rows x 18 columns]"
            ]
          },
          "metadata": {
            "tags": []
          },
          "execution_count": 59
        }
      ]
    },
    {
      "cell_type": "markdown",
      "metadata": {
        "id": "0xKLmilAkS0Y"
      },
      "source": [
        "1. 50% of vehicle have a risk rating of 1\n",
        "2. have a an average mileage of 25 to 30"
      ]
    },
    {
      "cell_type": "markdown",
      "metadata": {
        "id": "KYkrWJ3-Kr25"
      },
      "source": [
        "Correlation"
      ]
    },
    {
      "cell_type": "code",
      "metadata": {
        "colab": {
          "base_uri": "https://localhost:8080/",
          "height": 687
        },
        "id": "66ns68roKqgb",
        "outputId": "bce6224d-c82c-46cb-bcfb-cc5ad39e9141"
      },
      "source": [
        "plt.figure(figsize=(20,10))\n",
        "sns.heatmap(data.corr(),vmin=-1, vmax=1,annot=True,cmap='summer');\n",
        "plt.title(\"Correlation matrix of Autombile Data\");"
      ],
      "execution_count": null,
      "outputs": [
        {
          "output_type": "display_data",
          "data": {
            "image/png": "[encoded data removed]",
            "text/plain": [
              "<Figure size 1440x720 with 2 Axes>"
            ]
          },
          "metadata": {
            "tags": [],
            "needs_background": "light"
          }
        }
      ]
    },
    {
      "cell_type": "markdown",
      "metadata": {
        "id": "8lTCoDCaKy9s"
      },
      "source": [
        "\n",
        "1. highly positively correlated attributes=horsepower,bore,engine-size,curb-weight,length,width,wheel base\n",
        "2. city-mpg,highway-mpg are negatively corelated\n",
        "3.Normalised loss,symboling,stroke,peak rpm have weak correlation with price"
      ]
    },
    {
      "cell_type": "markdown",
      "metadata": {
        "id": "UciJrYL8lKDp"
      },
      "source": [
        "Pair Plot"
      ]
    },
    {
      "cell_type": "code",
      "metadata": {
        "colab": {
          "base_uri": "https://localhost:8080/",
          "height": 550
        },
        "id": "I3CCxwmrkkG8",
        "outputId": "abf444ab-9f07-4ff5-c11c-db843f846c51"
      },
      "source": [
        "sns.pairplot(data[['highway-mpg' ,'city-mpg','price']])\n",
        "plt.suptitle('Pair Plot of Mileage Vs Price', \n",
        "             size = 10);\n"
      ],
      "execution_count": null,
      "outputs": [
        {
          "output_type": "display_data",
          "data": {
            "image/png": "[encoded data removed]",
            "text/plain": [
              "<Figure size 540x540 with 12 Axes>"
            ]
          },
          "metadata": {
            "tags": [],
            "needs_background": "light"
          }
        }
      ]
    },
    {
      "cell_type": "markdown",
      "metadata": {
        "id": "WjP0f5o5m0_4"
      },
      "source": [
        "*Vehicle with high price have low mileage.High priced are meant for high performance and running cost is not very important in this segment.*"
      ]
    },
    {
      "cell_type": "code",
      "metadata": {
        "colab": {
          "base_uri": "https://localhost:8080/",
          "height": 550
        },
        "id": "NZovNqihm7LD",
        "outputId": "39ffe553-db07-474d-dac2-a5d327993de1"
      },
      "source": [
        "sns.pairplot(data[['horsepower','engine-size','price']])\n",
        "plt.suptitle('Pair Plot of HP,Engine size Vs Price',size = 10);\n"
      ],
      "execution_count": null,
      "outputs": [
        {
          "output_type": "display_data",
          "data": {
            "image/png": "[encoded data removed]",
            "text/plain": [
              "<Figure size 540x540 with 12 Axes>"
            ]
          },
          "metadata": {
            "tags": [],
            "needs_background": "light"
          }
        }
      ]
    },
    {
      "cell_type": "markdown",
      "metadata": {
        "id": "lcWvE5LknPHC"
      },
      "source": [
        "*Horse power increases the price of the vehicle increases.Almost a linear relationship is found.More horse power also means bigger engine size. Price increases with engine size*"
      ]
    },
    {
      "cell_type": "code",
      "metadata": {
        "colab": {
          "base_uri": "https://localhost:8080/",
          "height": 726
        },
        "id": "M6rUt9Q8nTcB",
        "outputId": "15187e19-3f47-49bc-b535-23b4399a4ba1"
      },
      "source": [
        "sns.pairplot(data[['highway-mpg','city-mpg','curb-weight','price']])\n",
        "plt.suptitle('Pair Plot of Mileage,Curb Weight Vs Price',size = 10);"
      ],
      "execution_count": null,
      "outputs": [
        {
          "output_type": "display_data",
          "data": {
            "image/png": "[encoded data removed]",
            "text/plain": [
              "<Figure size 720x720 with 20 Axes>"
            ]
          },
          "metadata": {
            "tags": [],
            "needs_background": "light"
          }
        }
      ]
    },
    {
      "cell_type": "markdown",
      "metadata": {
        "id": "mLyrGrH5njto"
      },
      "source": [
        "*High curb weight increases price of the vehicle and decreases the mileage of the vehicle*"
      ]
    },
    {
      "cell_type": "code",
      "metadata": {
        "colab": {
          "base_uri": "https://localhost:8080/",
          "height": 742
        },
        "id": "1i7orKORnqlX",
        "outputId": "8746b334-82b0-42c8-eec7-1067621765e3"
      },
      "source": [
        "sns.pairplot(data[['length','width','wheel-base','price']])\n",
        "plt.suptitle('Pair Plot of Dimensions Vs Price',size = 10);\n",
        "plt.savefig('our_plot_name.jpg', format='jpeg', dpi=70)     #to save image"
      ],
      "execution_count": null,
      "outputs": [
        {
          "output_type": "execute_result",
          "data": {
            "text/plain": [
              "<seaborn.axisgrid.PairGrid at 0x7ffae359eb70>"
            ]
          },
          "metadata": {
            "tags": []
          },
          "execution_count": 30
        },
        {
          "output_type": "execute_result",
          "data": {
            "text/plain": [
              "Text(0.5, 0.98, 'Pair Plot of Dimensions Vs Price')"
            ]
          },
          "metadata": {
            "tags": []
          },
          "execution_count": 30
        },
        {
          "output_type": "display_data",
          "data": {
            "image/png": "[encoded data removed]",
            "text/plain": [
              "<Figure size 720x720 with 20 Axes>"
            ]
          },
          "metadata": {
            "tags": [],
            "needs_background": "light"
          }
        }
      ]
    },
    {
      "cell_type": "markdown",
      "metadata": {
        "id": "eUPV_Lv_n_aW"
      },
      "source": [
        "*length,width,wheel base have very good correlation with price*"
      ]
    },
    {
      "cell_type": "markdown",
      "metadata": {
        "id": "7eZLAPOnocDz"
      },
      "source": [
        "Histogram of most correlated variables"
      ]
    },
    {
      "cell_type": "code",
      "metadata": {
        "colab": {
          "base_uri": "https://localhost:8080/",
          "height": 585
        },
        "id": "NxUB-TjAod-3",
        "outputId": "f4ee121d-99da-45c8-ad87-69e7e8b0e16f"
      },
      "source": [
        "data[['engine-size','curb-weight','horsepower','price','highway-mpg','length','width']].hist(figsize=(10,8),color='g',linewidth='3',edgecolor='k')\n",
        "plt.title('Histogram of important features',fontsize=16,loc='center')\n",
        "plt.tight_layout()\n",
        "plt.show();"
      ],
      "execution_count": null,
      "outputs": [
        {
          "output_type": "display_data",
          "data": {
            "image/png": "[encoded data removed]",
            "text/plain": [
              "<Figure size 720x576 with 9 Axes>"
            ]
          },
          "metadata": {
            "tags": [],
            "needs_background": "light"
          }
        }
      ]
    },
    {
      "cell_type": "markdown",
      "metadata": {
        "id": "QgTO6pj1oj6q"
      },
      "source": [
        "1. In this data set the curb weight of most cars is in the range 2000-3100 lbs\n",
        "2. The Engine Size is in range 80 to 180\n",
        "3. Most vehicle has horsepower 50 to 125\n"
      ]
    },
    {
      "cell_type": "markdown",
      "metadata": {
        "id": "aApFiL8npN5E"
      },
      "source": [
        "Plotting a histogram of target price"
      ]
    },
    {
      "cell_type": "code",
      "metadata": {
        "colab": {
          "base_uri": "https://localhost:8080/",
          "height": 403
        },
        "id": "y150T36XpR17",
        "outputId": "8e422cb5-9c56-482b-b168-cfa3a64b90d3"
      },
      "source": [
        "plt.figure(figsize=(8,6))                                     # creating the figure\n",
        "plt.hist(data['price'],bins=30,label='price',color='orange')     #bin= defyning number of bars,\n",
        "plt.xlabel('price')\n",
        "plt.ylabel('frequency')\n",
        "plt.legend()\n",
        "plt.title('price distribution');"
      ],
      "execution_count": null,
      "outputs": [
        {
          "output_type": "display_data",
          "data": {
            "image/png": "[encoded data removed]",
            "text/plain": [
              "<Figure size 576x432 with 1 Axes>"
            ]
          },
          "metadata": {
            "tags": [],
            "needs_background": "light"
          }
        }
      ]
    },
    {
      "cell_type": "markdown",
      "metadata": {
        "id": "Z59I8tghpuHL"
      },
      "source": [
        "1. Most Vehicle are in price range 5000 to 20000\n",
        "2. Price does not have a normal distribution"
      ]
    },
    {
      "cell_type": "markdown",
      "metadata": {
        "id": "xi3wFrgLqN6t"
      },
      "source": [
        "Plot of Different models of car"
      ]
    },
    {
      "cell_type": "code",
      "metadata": {
        "colab": {
          "base_uri": "https://localhost:8080/",
          "height": 403
        },
        "id": "NPG6vDe1qHsH",
        "outputId": "95b15e47-f221-47ab-b718-d499fa00da70"
      },
      "source": [
        "plt.figure(figsize=(8,6))\n",
        "data['make'].value_counts().plot(kind='barh')\n",
        "plt.xlabel('Number of Models')\n",
        "plt.ylabel('Company')\n",
        "plt.title(\"Company model frequency diagram\");"
      ],
      "execution_count": null,
      "outputs": [
        {
          "output_type": "display_data",
          "data": {
            "image/png": "[encoded data removed]",
            "text/plain": [
              "<Figure size 576x432 with 1 Axes>"
            ]
          },
          "metadata": {
            "tags": [],
            "needs_background": "light"
          }
        }
      ]
    },
    {
      "cell_type": "markdown",
      "metadata": {
        "id": "qTx2n1DVqd8u"
      },
      "source": [
        "*The top 3 vehicle companies are Toyota followed by mazda and Nissan. Then comes Honda,mitsubishi ,subaru and Volvo.*"
      ]
    },
    {
      "cell_type": "markdown",
      "metadata": {
        "id": "XieR0o4tqoxD"
      },
      "source": [
        "Box plot for price variance of each make"
      ]
    },
    {
      "cell_type": "code",
      "metadata": {
        "colab": {
          "base_uri": "https://localhost:8080/",
          "height": 512
        },
        "id": "9advZx-dqwo7",
        "outputId": "cff34628-a930-4fac-a46e-a64fe97b7fef"
      },
      "source": [
        "plt.figure(figsize=(20,8))\n",
        "sns.boxplot(x='make',y='price',data=data, \n",
        "                 palette=\"colorblind\")\n",
        "plt.title('Distribution of make into price');"
      ],
      "execution_count": null,
      "outputs": [
        {
          "output_type": "display_data",
          "data": {
            "image/png": "[encoded data removed]",
            "text/plain": [
              "<Figure size 1440x576 with 1 Axes>"
            ]
          },
          "metadata": {
            "tags": [],
            "needs_background": "light"
          }
        }
      ]
    },
    {
      "cell_type": "markdown",
      "metadata": {
        "id": "PiC3w1J8q2Zv"
      },
      "source": [
        "*Clearly the makers mercedes-benz, porsche, jaguar and bmw have the high prices*"
      ]
    },
    {
      "cell_type": "markdown",
      "metadata": {
        "id": "Mnti-1Qp9SLO"
      },
      "source": [
        "## **Encoding**"
      ]
    },
    {
      "cell_type": "markdown",
      "metadata": {
        "id": "XYykwHZc9oIX"
      },
      "source": [
        "*using one hot encoding to convert categorical variables*"
      ]
    },
    {
      "cell_type": "code",
      "metadata": {
        "id": "Uw04kiAZ9b-4"
      },
      "source": [
        "# data=pd.get_dummies(data)"
      ],
      "execution_count": null,
      "outputs": []
    },
    {
      "cell_type": "markdown",
      "metadata": {
        "id": "PyZlcsGS9665"
      },
      "source": [
        "*using Label Encoding to convert categorical variables*"
      ]
    },
    {
      "cell_type": "code",
      "metadata": {
        "id": "A-FFtPfO94Gn"
      },
      "source": [
        "from sklearn import preprocessing\n",
        "label_encoder = preprocessing.LabelEncoder() "
      ],
      "execution_count": null,
      "outputs": []
    },
    {
      "cell_type": "markdown",
      "metadata": {
        "id": "_cToDGeV-NQT"
      },
      "source": [
        "*creating a variable containing object datatypes*"
      ]
    },
    {
      "cell_type": "code",
      "metadata": {
        "colab": {
          "base_uri": "https://localhost:8080/"
        },
        "id": "uiIl0vja-H87",
        "outputId": "819167dc-7102-46f1-ac3d-936f534ebad7"
      },
      "source": [
        "objList = data.select_dtypes(include = \"object\").columns\n",
        "print (objList)           "
      ],
      "execution_count": null,
      "outputs": [
        {
          "output_type": "stream",
          "text": [
            "Index(['make', 'fuel-type', 'aspiration', 'body-style', 'drive-wheels',\n",
            "       'engine-location', 'engine-type', 'fuel-system'],\n",
            "      dtype='object')\n"
          ],
          "name": "stdout"
        }
      ]
    },
    {
      "cell_type": "code",
      "metadata": {
        "id": "6BnV4eIKwzBs"
      },
      "source": [
        "obj=data[['aspiration','make','fuel-type','body-style', 'drive-wheels',\n",
        "       'engine-location', 'engine-type', 'fuel-system']]"
      ],
      "execution_count": null,
      "outputs": []
    },
    {
      "cell_type": "code",
      "metadata": {
        "colab": {
          "base_uri": "https://localhost:8080/",
          "height": 391
        },
        "id": "5-falO6QyOAC",
        "outputId": "6c328d48-c3e7-4c43-ee02-a9c2a09f0eeb"
      },
      "source": [
        "obj.head()\n",
        "obj.tail()"
      ],
      "execution_count": null,
      "outputs": [
        {
          "output_type": "execute_result",
          "data": {
            "text/html": [
              "<div>\n",
              "<style scoped>\n",
              "    .dataframe tbody tr th:only-of-type {\n",
              "        vertical-align: middle;\n",
              "    }\n",
              "\n",
              "    .dataframe tbody tr th {\n",
              "        vertical-align: top;\n",
              "    }\n",
              "\n",
              "    .dataframe thead th {\n",
              "        text-align: right;\n",
              "    }\n",
              "</style>\n",
              "<table border=\"1\" class=\"dataframe\">\n",
              "  <thead>\n",
              "    <tr style=\"text-align: right;\">\n",
              "      <th></th>\n",
              "      <th>aspiration</th>\n",
              "      <th>make</th>\n",
              "      <th>fuel-type</th>\n",
              "      <th>body-style</th>\n",
              "      <th>drive-wheels</th>\n",
              "      <th>engine-location</th>\n",
              "      <th>engine-type</th>\n",
              "      <th>fuel-system</th>\n",
              "    </tr>\n",
              "  </thead>\n",
              "  <tbody>\n",
              "    <tr>\n",
              "      <th>0</th>\n",
              "      <td>std</td>\n",
              "      <td>alfa-romero</td>\n",
              "      <td>gas</td>\n",
              "      <td>convertible</td>\n",
              "      <td>rwd</td>\n",
              "      <td>front</td>\n",
              "      <td>dohc</td>\n",
              "      <td>mpfi</td>\n",
              "    </tr>\n",
              "    <tr>\n",
              "      <th>1</th>\n",
              "      <td>std</td>\n",
              "      <td>alfa-romero</td>\n",
              "      <td>gas</td>\n",
              "      <td>convertible</td>\n",
              "      <td>rwd</td>\n",
              "      <td>front</td>\n",
              "      <td>dohc</td>\n",
              "      <td>mpfi</td>\n",
              "    </tr>\n",
              "    <tr>\n",
              "      <th>2</th>\n",
              "      <td>std</td>\n",
              "      <td>alfa-romero</td>\n",
              "      <td>gas</td>\n",
              "      <td>hatchback</td>\n",
              "      <td>rwd</td>\n",
              "      <td>front</td>\n",
              "      <td>ohcv</td>\n",
              "      <td>mpfi</td>\n",
              "    </tr>\n",
              "    <tr>\n",
              "      <th>3</th>\n",
              "      <td>std</td>\n",
              "      <td>audi</td>\n",
              "      <td>gas</td>\n",
              "      <td>sedan</td>\n",
              "      <td>fwd</td>\n",
              "      <td>front</td>\n",
              "      <td>ohc</td>\n",
              "      <td>mpfi</td>\n",
              "    </tr>\n",
              "    <tr>\n",
              "      <th>4</th>\n",
              "      <td>std</td>\n",
              "      <td>audi</td>\n",
              "      <td>gas</td>\n",
              "      <td>sedan</td>\n",
              "      <td>4wd</td>\n",
              "      <td>front</td>\n",
              "      <td>ohc</td>\n",
              "      <td>mpfi</td>\n",
              "    </tr>\n",
              "  </tbody>\n",
              "</table>\n",
              "</div>"
            ],
            "text/plain": [
              "  aspiration         make fuel-type  ... engine-location engine-type fuel-system\n",
              "0        std  alfa-romero       gas  ...           front        dohc        mpfi\n",
              "1        std  alfa-romero       gas  ...           front        dohc        mpfi\n",
              "2        std  alfa-romero       gas  ...           front        ohcv        mpfi\n",
              "3        std         audi       gas  ...           front         ohc        mpfi\n",
              "4        std         audi       gas  ...           front         ohc        mpfi\n",
              "\n",
              "[5 rows x 8 columns]"
            ]
          },
          "metadata": {
            "tags": []
          },
          "execution_count": 37
        },
        {
          "output_type": "execute_result",
          "data": {
            "text/html": [
              "<div>\n",
              "<style scoped>\n",
              "    .dataframe tbody tr th:only-of-type {\n",
              "        vertical-align: middle;\n",
              "    }\n",
              "\n",
              "    .dataframe tbody tr th {\n",
              "        vertical-align: top;\n",
              "    }\n",
              "\n",
              "    .dataframe thead th {\n",
              "        text-align: right;\n",
              "    }\n",
              "</style>\n",
              "<table border=\"1\" class=\"dataframe\">\n",
              "  <thead>\n",
              "    <tr style=\"text-align: right;\">\n",
              "      <th></th>\n",
              "      <th>aspiration</th>\n",
              "      <th>make</th>\n",
              "      <th>fuel-type</th>\n",
              "      <th>body-style</th>\n",
              "      <th>drive-wheels</th>\n",
              "      <th>engine-location</th>\n",
              "      <th>engine-type</th>\n",
              "      <th>fuel-system</th>\n",
              "    </tr>\n",
              "  </thead>\n",
              "  <tbody>\n",
              "    <tr>\n",
              "      <th>200</th>\n",
              "      <td>std</td>\n",
              "      <td>volvo</td>\n",
              "      <td>gas</td>\n",
              "      <td>sedan</td>\n",
              "      <td>rwd</td>\n",
              "      <td>front</td>\n",
              "      <td>ohc</td>\n",
              "      <td>mpfi</td>\n",
              "    </tr>\n",
              "    <tr>\n",
              "      <th>201</th>\n",
              "      <td>turbo</td>\n",
              "      <td>volvo</td>\n",
              "      <td>gas</td>\n",
              "      <td>sedan</td>\n",
              "      <td>rwd</td>\n",
              "      <td>front</td>\n",
              "      <td>ohc</td>\n",
              "      <td>mpfi</td>\n",
              "    </tr>\n",
              "    <tr>\n",
              "      <th>202</th>\n",
              "      <td>std</td>\n",
              "      <td>volvo</td>\n",
              "      <td>gas</td>\n",
              "      <td>sedan</td>\n",
              "      <td>rwd</td>\n",
              "      <td>front</td>\n",
              "      <td>ohcv</td>\n",
              "      <td>mpfi</td>\n",
              "    </tr>\n",
              "    <tr>\n",
              "      <th>203</th>\n",
              "      <td>turbo</td>\n",
              "      <td>volvo</td>\n",
              "      <td>diesel</td>\n",
              "      <td>sedan</td>\n",
              "      <td>rwd</td>\n",
              "      <td>front</td>\n",
              "      <td>ohc</td>\n",
              "      <td>idi</td>\n",
              "    </tr>\n",
              "    <tr>\n",
              "      <th>204</th>\n",
              "      <td>turbo</td>\n",
              "      <td>volvo</td>\n",
              "      <td>gas</td>\n",
              "      <td>sedan</td>\n",
              "      <td>rwd</td>\n",
              "      <td>front</td>\n",
              "      <td>ohc</td>\n",
              "      <td>mpfi</td>\n",
              "    </tr>\n",
              "  </tbody>\n",
              "</table>\n",
              "</div>"
            ],
            "text/plain": [
              "    aspiration   make fuel-type  ... engine-location engine-type fuel-system\n",
              "200        std  volvo       gas  ...           front         ohc        mpfi\n",
              "201      turbo  volvo       gas  ...           front         ohc        mpfi\n",
              "202        std  volvo       gas  ...           front        ohcv        mpfi\n",
              "203      turbo  volvo    diesel  ...           front         ohc         idi\n",
              "204      turbo  volvo       gas  ...           front         ohc        mpfi\n",
              "\n",
              "[5 rows x 8 columns]"
            ]
          },
          "metadata": {
            "tags": []
          },
          "execution_count": 37
        }
      ]
    },
    {
      "cell_type": "markdown",
      "metadata": {
        "id": "3uovpTgz-b8o"
      },
      "source": [
        "*using for loop to label encode all object types*"
      ]
    },
    {
      "cell_type": "code",
      "metadata": {
        "id": "x2KIrlGs-YlR"
      },
      "source": [
        "for feat in objList:\n",
        "    data[feat] = label_encoder.fit_transform(data[feat].astype(str))"
      ],
      "execution_count": null,
      "outputs": []
    },
    {
      "cell_type": "code",
      "metadata": {
        "colab": {
          "base_uri": "https://localhost:8080/",
          "height": 204
        },
        "id": "_9w58OOh7UbK",
        "outputId": "558e0ad7-67cb-4da4-c922-1a15871a2fb0"
      },
      "source": [
        "obj.head()"
      ],
      "execution_count": null,
      "outputs": [
        {
          "output_type": "execute_result",
          "data": {
            "text/html": [
              "<div>\n",
              "<style scoped>\n",
              "    .dataframe tbody tr th:only-of-type {\n",
              "        vertical-align: middle;\n",
              "    }\n",
              "\n",
              "    .dataframe tbody tr th {\n",
              "        vertical-align: top;\n",
              "    }\n",
              "\n",
              "    .dataframe thead th {\n",
              "        text-align: right;\n",
              "    }\n",
              "</style>\n",
              "<table border=\"1\" class=\"dataframe\">\n",
              "  <thead>\n",
              "    <tr style=\"text-align: right;\">\n",
              "      <th></th>\n",
              "      <th>aspiration</th>\n",
              "      <th>make</th>\n",
              "      <th>fuel-type</th>\n",
              "      <th>body-style</th>\n",
              "      <th>drive-wheels</th>\n",
              "      <th>engine-location</th>\n",
              "      <th>engine-type</th>\n",
              "      <th>fuel-system</th>\n",
              "    </tr>\n",
              "  </thead>\n",
              "  <tbody>\n",
              "    <tr>\n",
              "      <th>0</th>\n",
              "      <td>0</td>\n",
              "      <td>0</td>\n",
              "      <td>1</td>\n",
              "      <td>0</td>\n",
              "      <td>2</td>\n",
              "      <td>0</td>\n",
              "      <td>0</td>\n",
              "      <td>5</td>\n",
              "    </tr>\n",
              "    <tr>\n",
              "      <th>1</th>\n",
              "      <td>0</td>\n",
              "      <td>0</td>\n",
              "      <td>1</td>\n",
              "      <td>0</td>\n",
              "      <td>2</td>\n",
              "      <td>0</td>\n",
              "      <td>0</td>\n",
              "      <td>5</td>\n",
              "    </tr>\n",
              "    <tr>\n",
              "      <th>2</th>\n",
              "      <td>0</td>\n",
              "      <td>0</td>\n",
              "      <td>1</td>\n",
              "      <td>2</td>\n",
              "      <td>2</td>\n",
              "      <td>0</td>\n",
              "      <td>5</td>\n",
              "      <td>5</td>\n",
              "    </tr>\n",
              "    <tr>\n",
              "      <th>3</th>\n",
              "      <td>0</td>\n",
              "      <td>1</td>\n",
              "      <td>1</td>\n",
              "      <td>3</td>\n",
              "      <td>1</td>\n",
              "      <td>0</td>\n",
              "      <td>3</td>\n",
              "      <td>5</td>\n",
              "    </tr>\n",
              "    <tr>\n",
              "      <th>4</th>\n",
              "      <td>0</td>\n",
              "      <td>1</td>\n",
              "      <td>1</td>\n",
              "      <td>3</td>\n",
              "      <td>0</td>\n",
              "      <td>0</td>\n",
              "      <td>3</td>\n",
              "      <td>5</td>\n",
              "    </tr>\n",
              "  </tbody>\n",
              "</table>\n",
              "</div>"
            ],
            "text/plain": [
              "   aspiration  make  fuel-type  ...  engine-location  engine-type  fuel-system\n",
              "0           0     0          1  ...                0            0            5\n",
              "1           0     0          1  ...                0            0            5\n",
              "2           0     0          1  ...                0            5            5\n",
              "3           0     1          1  ...                0            3            5\n",
              "4           0     1          1  ...                0            3            5\n",
              "\n",
              "[5 rows x 8 columns]"
            ]
          },
          "metadata": {
            "tags": []
          },
          "execution_count": 45
        }
      ]
    },
    {
      "cell_type": "markdown",
      "metadata": {
        "id": "LXunCogI-m1I"
      },
      "source": [
        "*checking for the change in data by using head() function*"
      ]
    },
    {
      "cell_type": "code",
      "metadata": {
        "colab": {
          "base_uri": "https://localhost:8080/",
          "height": 251
        },
        "id": "J4Hehjsq-vqB",
        "outputId": "a3af3059-c62b-48c4-e689-3e248006f817"
      },
      "source": [
        "data.head()"
      ],
      "execution_count": null,
      "outputs": [
        {
          "output_type": "execute_result",
          "data": {
            "text/html": [
              "<div>\n",
              "<style scoped>\n",
              "    .dataframe tbody tr th:only-of-type {\n",
              "        vertical-align: middle;\n",
              "    }\n",
              "\n",
              "    .dataframe tbody tr th {\n",
              "        vertical-align: top;\n",
              "    }\n",
              "\n",
              "    .dataframe thead th {\n",
              "        text-align: right;\n",
              "    }\n",
              "</style>\n",
              "<table border=\"1\" class=\"dataframe\">\n",
              "  <thead>\n",
              "    <tr style=\"text-align: right;\">\n",
              "      <th></th>\n",
              "      <th>symboling</th>\n",
              "      <th>normalized-losses</th>\n",
              "      <th>make</th>\n",
              "      <th>fuel-type</th>\n",
              "      <th>aspiration</th>\n",
              "      <th>num-of-doors</th>\n",
              "      <th>body-style</th>\n",
              "      <th>drive-wheels</th>\n",
              "      <th>engine-location</th>\n",
              "      <th>wheel-base</th>\n",
              "      <th>length</th>\n",
              "      <th>width</th>\n",
              "      <th>height</th>\n",
              "      <th>curb-weight</th>\n",
              "      <th>engine-type</th>\n",
              "      <th>num-of-cylinders</th>\n",
              "      <th>engine-size</th>\n",
              "      <th>fuel-system</th>\n",
              "      <th>bore</th>\n",
              "      <th>stroke</th>\n",
              "      <th>compression-ratio</th>\n",
              "      <th>horsepower</th>\n",
              "      <th>peak-rpm</th>\n",
              "      <th>city-mpg</th>\n",
              "      <th>highway-mpg</th>\n",
              "      <th>price</th>\n",
              "    </tr>\n",
              "  </thead>\n",
              "  <tbody>\n",
              "    <tr>\n",
              "      <th>0</th>\n",
              "      <td>3</td>\n",
              "      <td>122.0</td>\n",
              "      <td>0</td>\n",
              "      <td>1</td>\n",
              "      <td>0</td>\n",
              "      <td>1</td>\n",
              "      <td>0</td>\n",
              "      <td>2</td>\n",
              "      <td>0</td>\n",
              "      <td>88.6</td>\n",
              "      <td>168.8</td>\n",
              "      <td>64.1</td>\n",
              "      <td>48.8</td>\n",
              "      <td>2548</td>\n",
              "      <td>0</td>\n",
              "      <td>2</td>\n",
              "      <td>130</td>\n",
              "      <td>5</td>\n",
              "      <td>3.47</td>\n",
              "      <td>2.68</td>\n",
              "      <td>9.0</td>\n",
              "      <td>111.0</td>\n",
              "      <td>5000.0</td>\n",
              "      <td>21</td>\n",
              "      <td>27</td>\n",
              "      <td>13495.0</td>\n",
              "    </tr>\n",
              "    <tr>\n",
              "      <th>1</th>\n",
              "      <td>3</td>\n",
              "      <td>122.0</td>\n",
              "      <td>0</td>\n",
              "      <td>1</td>\n",
              "      <td>0</td>\n",
              "      <td>1</td>\n",
              "      <td>0</td>\n",
              "      <td>2</td>\n",
              "      <td>0</td>\n",
              "      <td>88.6</td>\n",
              "      <td>168.8</td>\n",
              "      <td>64.1</td>\n",
              "      <td>48.8</td>\n",
              "      <td>2548</td>\n",
              "      <td>0</td>\n",
              "      <td>2</td>\n",
              "      <td>130</td>\n",
              "      <td>5</td>\n",
              "      <td>3.47</td>\n",
              "      <td>2.68</td>\n",
              "      <td>9.0</td>\n",
              "      <td>111.0</td>\n",
              "      <td>5000.0</td>\n",
              "      <td>21</td>\n",
              "      <td>27</td>\n",
              "      <td>16500.0</td>\n",
              "    </tr>\n",
              "    <tr>\n",
              "      <th>2</th>\n",
              "      <td>1</td>\n",
              "      <td>122.0</td>\n",
              "      <td>0</td>\n",
              "      <td>1</td>\n",
              "      <td>0</td>\n",
              "      <td>1</td>\n",
              "      <td>2</td>\n",
              "      <td>2</td>\n",
              "      <td>0</td>\n",
              "      <td>94.5</td>\n",
              "      <td>171.2</td>\n",
              "      <td>65.5</td>\n",
              "      <td>52.4</td>\n",
              "      <td>2823</td>\n",
              "      <td>5</td>\n",
              "      <td>3</td>\n",
              "      <td>152</td>\n",
              "      <td>5</td>\n",
              "      <td>2.68</td>\n",
              "      <td>3.47</td>\n",
              "      <td>9.0</td>\n",
              "      <td>154.0</td>\n",
              "      <td>5000.0</td>\n",
              "      <td>19</td>\n",
              "      <td>26</td>\n",
              "      <td>16500.0</td>\n",
              "    </tr>\n",
              "    <tr>\n",
              "      <th>3</th>\n",
              "      <td>2</td>\n",
              "      <td>164.0</td>\n",
              "      <td>1</td>\n",
              "      <td>1</td>\n",
              "      <td>0</td>\n",
              "      <td>0</td>\n",
              "      <td>3</td>\n",
              "      <td>1</td>\n",
              "      <td>0</td>\n",
              "      <td>99.8</td>\n",
              "      <td>176.6</td>\n",
              "      <td>66.2</td>\n",
              "      <td>54.3</td>\n",
              "      <td>2337</td>\n",
              "      <td>3</td>\n",
              "      <td>2</td>\n",
              "      <td>109</td>\n",
              "      <td>5</td>\n",
              "      <td>3.19</td>\n",
              "      <td>3.40</td>\n",
              "      <td>10.0</td>\n",
              "      <td>102.0</td>\n",
              "      <td>5500.0</td>\n",
              "      <td>24</td>\n",
              "      <td>30</td>\n",
              "      <td>13950.0</td>\n",
              "    </tr>\n",
              "    <tr>\n",
              "      <th>4</th>\n",
              "      <td>2</td>\n",
              "      <td>164.0</td>\n",
              "      <td>1</td>\n",
              "      <td>1</td>\n",
              "      <td>0</td>\n",
              "      <td>0</td>\n",
              "      <td>3</td>\n",
              "      <td>0</td>\n",
              "      <td>0</td>\n",
              "      <td>99.4</td>\n",
              "      <td>176.6</td>\n",
              "      <td>66.4</td>\n",
              "      <td>54.3</td>\n",
              "      <td>2824</td>\n",
              "      <td>3</td>\n",
              "      <td>1</td>\n",
              "      <td>136</td>\n",
              "      <td>5</td>\n",
              "      <td>3.19</td>\n",
              "      <td>3.40</td>\n",
              "      <td>8.0</td>\n",
              "      <td>115.0</td>\n",
              "      <td>5500.0</td>\n",
              "      <td>18</td>\n",
              "      <td>22</td>\n",
              "      <td>17450.0</td>\n",
              "    </tr>\n",
              "  </tbody>\n",
              "</table>\n",
              "</div>"
            ],
            "text/plain": [
              "   symboling  normalized-losses  make  ...  city-mpg  highway-mpg    price\n",
              "0          3              122.0     0  ...        21           27  13495.0\n",
              "1          3              122.0     0  ...        21           27  16500.0\n",
              "2          1              122.0     0  ...        19           26  16500.0\n",
              "3          2              164.0     1  ...        24           30  13950.0\n",
              "4          2              164.0     1  ...        18           22  17450.0\n",
              "\n",
              "[5 rows x 26 columns]"
            ]
          },
          "metadata": {
            "tags": []
          },
          "execution_count": 18
        }
      ]
    },
    {
      "cell_type": "markdown",
      "metadata": {
        "id": "TaaM2d0G-zUs"
      },
      "source": [
        "*we can see encoded data*"
      ]
    },
    {
      "cell_type": "markdown",
      "metadata": {
        "id": "wBKOCJPm-6Ti"
      },
      "source": [
        "# **Binning**"
      ]
    },
    {
      "cell_type": "markdown",
      "metadata": {
        "id": "gaThGExO_MD6"
      },
      "source": [
        "Binning is done to the target variable **price** to improve accuracy "
      ]
    },
    {
      "cell_type": "code",
      "metadata": {
        "id": "IBf598L2_LYJ"
      },
      "source": [
        "binwidth= int((max(data['price'])- min(data['price']))/3)\n",
        "bins= range(int(min(data['price'])),int(max(data['price'])),binwidth)\n",
        "data['binned-Price']= pd.cut(data['price'],bins,labels=[\"Low\",\"Medium\",\"High\"])"
      ],
      "execution_count": null,
      "outputs": []
    },
    {
      "cell_type": "code",
      "metadata": {
        "colab": {
          "base_uri": "https://localhost:8080/",
          "height": 701
        },
        "id": "ZAqFmy5j47CR",
        "outputId": "02b2d64c-6e97-401f-fa57-73294c4300d5"
      },
      "source": [
        "data.head(20)"
      ],
      "execution_count": null,
      "outputs": [
        {
          "output_type": "execute_result",
          "data": {
            "text/html": [
              "<div>\n",
              "<style scoped>\n",
              "    .dataframe tbody tr th:only-of-type {\n",
              "        vertical-align: middle;\n",
              "    }\n",
              "\n",
              "    .dataframe tbody tr th {\n",
              "        vertical-align: top;\n",
              "    }\n",
              "\n",
              "    .dataframe thead th {\n",
              "        text-align: right;\n",
              "    }\n",
              "</style>\n",
              "<table border=\"1\" class=\"dataframe\">\n",
              "  <thead>\n",
              "    <tr style=\"text-align: right;\">\n",
              "      <th></th>\n",
              "      <th>symboling</th>\n",
              "      <th>normalized-losses</th>\n",
              "      <th>make</th>\n",
              "      <th>fuel-type</th>\n",
              "      <th>aspiration</th>\n",
              "      <th>num-of-doors</th>\n",
              "      <th>body-style</th>\n",
              "      <th>drive-wheels</th>\n",
              "      <th>engine-location</th>\n",
              "      <th>wheel-base</th>\n",
              "      <th>length</th>\n",
              "      <th>width</th>\n",
              "      <th>height</th>\n",
              "      <th>curb-weight</th>\n",
              "      <th>engine-type</th>\n",
              "      <th>num-of-cylinders</th>\n",
              "      <th>engine-size</th>\n",
              "      <th>fuel-system</th>\n",
              "      <th>bore</th>\n",
              "      <th>stroke</th>\n",
              "      <th>compression-ratio</th>\n",
              "      <th>horsepower</th>\n",
              "      <th>peak-rpm</th>\n",
              "      <th>city-mpg</th>\n",
              "      <th>highway-mpg</th>\n",
              "      <th>price</th>\n",
              "      <th>binned-Price</th>\n",
              "    </tr>\n",
              "  </thead>\n",
              "  <tbody>\n",
              "    <tr>\n",
              "      <th>0</th>\n",
              "      <td>3</td>\n",
              "      <td>122.0</td>\n",
              "      <td>0</td>\n",
              "      <td>1</td>\n",
              "      <td>0</td>\n",
              "      <td>1</td>\n",
              "      <td>0</td>\n",
              "      <td>2</td>\n",
              "      <td>0</td>\n",
              "      <td>88.6</td>\n",
              "      <td>168.8</td>\n",
              "      <td>64.1</td>\n",
              "      <td>48.8</td>\n",
              "      <td>2548</td>\n",
              "      <td>0</td>\n",
              "      <td>2</td>\n",
              "      <td>130</td>\n",
              "      <td>5</td>\n",
              "      <td>3.47</td>\n",
              "      <td>2.68</td>\n",
              "      <td>9.0</td>\n",
              "      <td>111.0</td>\n",
              "      <td>5000.0</td>\n",
              "      <td>21</td>\n",
              "      <td>27</td>\n",
              "      <td>13495.000000</td>\n",
              "      <td>Low</td>\n",
              "    </tr>\n",
              "    <tr>\n",
              "      <th>1</th>\n",
              "      <td>3</td>\n",
              "      <td>122.0</td>\n",
              "      <td>0</td>\n",
              "      <td>1</td>\n",
              "      <td>0</td>\n",
              "      <td>1</td>\n",
              "      <td>0</td>\n",
              "      <td>2</td>\n",
              "      <td>0</td>\n",
              "      <td>88.6</td>\n",
              "      <td>168.8</td>\n",
              "      <td>64.1</td>\n",
              "      <td>48.8</td>\n",
              "      <td>2548</td>\n",
              "      <td>0</td>\n",
              "      <td>2</td>\n",
              "      <td>130</td>\n",
              "      <td>5</td>\n",
              "      <td>3.47</td>\n",
              "      <td>2.68</td>\n",
              "      <td>9.0</td>\n",
              "      <td>111.0</td>\n",
              "      <td>5000.0</td>\n",
              "      <td>21</td>\n",
              "      <td>27</td>\n",
              "      <td>16500.000000</td>\n",
              "      <td>Low</td>\n",
              "    </tr>\n",
              "    <tr>\n",
              "      <th>2</th>\n",
              "      <td>1</td>\n",
              "      <td>122.0</td>\n",
              "      <td>0</td>\n",
              "      <td>1</td>\n",
              "      <td>0</td>\n",
              "      <td>1</td>\n",
              "      <td>2</td>\n",
              "      <td>2</td>\n",
              "      <td>0</td>\n",
              "      <td>94.5</td>\n",
              "      <td>171.2</td>\n",
              "      <td>65.5</td>\n",
              "      <td>52.4</td>\n",
              "      <td>2823</td>\n",
              "      <td>5</td>\n",
              "      <td>3</td>\n",
              "      <td>152</td>\n",
              "      <td>5</td>\n",
              "      <td>2.68</td>\n",
              "      <td>3.47</td>\n",
              "      <td>9.0</td>\n",
              "      <td>154.0</td>\n",
              "      <td>5000.0</td>\n",
              "      <td>19</td>\n",
              "      <td>26</td>\n",
              "      <td>16500.000000</td>\n",
              "      <td>Low</td>\n",
              "    </tr>\n",
              "    <tr>\n",
              "      <th>3</th>\n",
              "      <td>2</td>\n",
              "      <td>164.0</td>\n",
              "      <td>1</td>\n",
              "      <td>1</td>\n",
              "      <td>0</td>\n",
              "      <td>0</td>\n",
              "      <td>3</td>\n",
              "      <td>1</td>\n",
              "      <td>0</td>\n",
              "      <td>99.8</td>\n",
              "      <td>176.6</td>\n",
              "      <td>66.2</td>\n",
              "      <td>54.3</td>\n",
              "      <td>2337</td>\n",
              "      <td>3</td>\n",
              "      <td>2</td>\n",
              "      <td>109</td>\n",
              "      <td>5</td>\n",
              "      <td>3.19</td>\n",
              "      <td>3.40</td>\n",
              "      <td>10.0</td>\n",
              "      <td>102.0</td>\n",
              "      <td>5500.0</td>\n",
              "      <td>24</td>\n",
              "      <td>30</td>\n",
              "      <td>13950.000000</td>\n",
              "      <td>Low</td>\n",
              "    </tr>\n",
              "    <tr>\n",
              "      <th>4</th>\n",
              "      <td>2</td>\n",
              "      <td>164.0</td>\n",
              "      <td>1</td>\n",
              "      <td>1</td>\n",
              "      <td>0</td>\n",
              "      <td>0</td>\n",
              "      <td>3</td>\n",
              "      <td>0</td>\n",
              "      <td>0</td>\n",
              "      <td>99.4</td>\n",
              "      <td>176.6</td>\n",
              "      <td>66.4</td>\n",
              "      <td>54.3</td>\n",
              "      <td>2824</td>\n",
              "      <td>3</td>\n",
              "      <td>1</td>\n",
              "      <td>136</td>\n",
              "      <td>5</td>\n",
              "      <td>3.19</td>\n",
              "      <td>3.40</td>\n",
              "      <td>8.0</td>\n",
              "      <td>115.0</td>\n",
              "      <td>5500.0</td>\n",
              "      <td>18</td>\n",
              "      <td>22</td>\n",
              "      <td>17450.000000</td>\n",
              "      <td>Low</td>\n",
              "    </tr>\n",
              "    <tr>\n",
              "      <th>5</th>\n",
              "      <td>2</td>\n",
              "      <td>122.0</td>\n",
              "      <td>1</td>\n",
              "      <td>1</td>\n",
              "      <td>0</td>\n",
              "      <td>1</td>\n",
              "      <td>3</td>\n",
              "      <td>1</td>\n",
              "      <td>0</td>\n",
              "      <td>99.8</td>\n",
              "      <td>177.3</td>\n",
              "      <td>66.3</td>\n",
              "      <td>53.1</td>\n",
              "      <td>2507</td>\n",
              "      <td>3</td>\n",
              "      <td>1</td>\n",
              "      <td>136</td>\n",
              "      <td>5</td>\n",
              "      <td>3.19</td>\n",
              "      <td>3.40</td>\n",
              "      <td>8.5</td>\n",
              "      <td>110.0</td>\n",
              "      <td>5500.0</td>\n",
              "      <td>19</td>\n",
              "      <td>25</td>\n",
              "      <td>15250.000000</td>\n",
              "      <td>Low</td>\n",
              "    </tr>\n",
              "    <tr>\n",
              "      <th>6</th>\n",
              "      <td>1</td>\n",
              "      <td>158.0</td>\n",
              "      <td>1</td>\n",
              "      <td>1</td>\n",
              "      <td>0</td>\n",
              "      <td>0</td>\n",
              "      <td>3</td>\n",
              "      <td>1</td>\n",
              "      <td>0</td>\n",
              "      <td>105.8</td>\n",
              "      <td>192.7</td>\n",
              "      <td>71.4</td>\n",
              "      <td>55.7</td>\n",
              "      <td>2844</td>\n",
              "      <td>3</td>\n",
              "      <td>1</td>\n",
              "      <td>136</td>\n",
              "      <td>5</td>\n",
              "      <td>3.19</td>\n",
              "      <td>3.40</td>\n",
              "      <td>8.5</td>\n",
              "      <td>110.0</td>\n",
              "      <td>5500.0</td>\n",
              "      <td>19</td>\n",
              "      <td>25</td>\n",
              "      <td>17710.000000</td>\n",
              "      <td>Low</td>\n",
              "    </tr>\n",
              "    <tr>\n",
              "      <th>7</th>\n",
              "      <td>1</td>\n",
              "      <td>122.0</td>\n",
              "      <td>1</td>\n",
              "      <td>1</td>\n",
              "      <td>0</td>\n",
              "      <td>0</td>\n",
              "      <td>4</td>\n",
              "      <td>1</td>\n",
              "      <td>0</td>\n",
              "      <td>105.8</td>\n",
              "      <td>192.7</td>\n",
              "      <td>71.4</td>\n",
              "      <td>55.7</td>\n",
              "      <td>2954</td>\n",
              "      <td>3</td>\n",
              "      <td>1</td>\n",
              "      <td>136</td>\n",
              "      <td>5</td>\n",
              "      <td>3.19</td>\n",
              "      <td>3.40</td>\n",
              "      <td>8.5</td>\n",
              "      <td>110.0</td>\n",
              "      <td>5500.0</td>\n",
              "      <td>19</td>\n",
              "      <td>25</td>\n",
              "      <td>18920.000000</td>\n",
              "      <td>Medium</td>\n",
              "    </tr>\n",
              "    <tr>\n",
              "      <th>8</th>\n",
              "      <td>1</td>\n",
              "      <td>158.0</td>\n",
              "      <td>1</td>\n",
              "      <td>1</td>\n",
              "      <td>1</td>\n",
              "      <td>0</td>\n",
              "      <td>3</td>\n",
              "      <td>1</td>\n",
              "      <td>0</td>\n",
              "      <td>105.8</td>\n",
              "      <td>192.7</td>\n",
              "      <td>71.4</td>\n",
              "      <td>55.9</td>\n",
              "      <td>3086</td>\n",
              "      <td>3</td>\n",
              "      <td>1</td>\n",
              "      <td>131</td>\n",
              "      <td>5</td>\n",
              "      <td>3.13</td>\n",
              "      <td>3.40</td>\n",
              "      <td>8.3</td>\n",
              "      <td>140.0</td>\n",
              "      <td>5500.0</td>\n",
              "      <td>17</td>\n",
              "      <td>20</td>\n",
              "      <td>23875.000000</td>\n",
              "      <td>Medium</td>\n",
              "    </tr>\n",
              "    <tr>\n",
              "      <th>9</th>\n",
              "      <td>0</td>\n",
              "      <td>122.0</td>\n",
              "      <td>1</td>\n",
              "      <td>1</td>\n",
              "      <td>1</td>\n",
              "      <td>1</td>\n",
              "      <td>2</td>\n",
              "      <td>0</td>\n",
              "      <td>0</td>\n",
              "      <td>99.5</td>\n",
              "      <td>178.2</td>\n",
              "      <td>67.9</td>\n",
              "      <td>52.0</td>\n",
              "      <td>3053</td>\n",
              "      <td>3</td>\n",
              "      <td>1</td>\n",
              "      <td>131</td>\n",
              "      <td>5</td>\n",
              "      <td>3.13</td>\n",
              "      <td>3.40</td>\n",
              "      <td>7.0</td>\n",
              "      <td>160.0</td>\n",
              "      <td>5500.0</td>\n",
              "      <td>16</td>\n",
              "      <td>22</td>\n",
              "      <td>13207.129353</td>\n",
              "      <td>Low</td>\n",
              "    </tr>\n",
              "    <tr>\n",
              "      <th>10</th>\n",
              "      <td>2</td>\n",
              "      <td>192.0</td>\n",
              "      <td>2</td>\n",
              "      <td>1</td>\n",
              "      <td>0</td>\n",
              "      <td>1</td>\n",
              "      <td>3</td>\n",
              "      <td>2</td>\n",
              "      <td>0</td>\n",
              "      <td>101.2</td>\n",
              "      <td>176.8</td>\n",
              "      <td>64.8</td>\n",
              "      <td>54.3</td>\n",
              "      <td>2395</td>\n",
              "      <td>3</td>\n",
              "      <td>2</td>\n",
              "      <td>108</td>\n",
              "      <td>5</td>\n",
              "      <td>3.50</td>\n",
              "      <td>2.80</td>\n",
              "      <td>8.8</td>\n",
              "      <td>101.0</td>\n",
              "      <td>5800.0</td>\n",
              "      <td>23</td>\n",
              "      <td>29</td>\n",
              "      <td>16430.000000</td>\n",
              "      <td>Low</td>\n",
              "    </tr>\n",
              "    <tr>\n",
              "      <th>11</th>\n",
              "      <td>0</td>\n",
              "      <td>192.0</td>\n",
              "      <td>2</td>\n",
              "      <td>1</td>\n",
              "      <td>0</td>\n",
              "      <td>0</td>\n",
              "      <td>3</td>\n",
              "      <td>2</td>\n",
              "      <td>0</td>\n",
              "      <td>101.2</td>\n",
              "      <td>176.8</td>\n",
              "      <td>64.8</td>\n",
              "      <td>54.3</td>\n",
              "      <td>2395</td>\n",
              "      <td>3</td>\n",
              "      <td>2</td>\n",
              "      <td>108</td>\n",
              "      <td>5</td>\n",
              "      <td>3.50</td>\n",
              "      <td>2.80</td>\n",
              "      <td>8.8</td>\n",
              "      <td>101.0</td>\n",
              "      <td>5800.0</td>\n",
              "      <td>23</td>\n",
              "      <td>29</td>\n",
              "      <td>16925.000000</td>\n",
              "      <td>Low</td>\n",
              "    </tr>\n",
              "    <tr>\n",
              "      <th>12</th>\n",
              "      <td>0</td>\n",
              "      <td>188.0</td>\n",
              "      <td>2</td>\n",
              "      <td>1</td>\n",
              "      <td>0</td>\n",
              "      <td>1</td>\n",
              "      <td>3</td>\n",
              "      <td>2</td>\n",
              "      <td>0</td>\n",
              "      <td>101.2</td>\n",
              "      <td>176.8</td>\n",
              "      <td>64.8</td>\n",
              "      <td>54.3</td>\n",
              "      <td>2710</td>\n",
              "      <td>3</td>\n",
              "      <td>3</td>\n",
              "      <td>164</td>\n",
              "      <td>5</td>\n",
              "      <td>3.31</td>\n",
              "      <td>3.19</td>\n",
              "      <td>9.0</td>\n",
              "      <td>121.0</td>\n",
              "      <td>4250.0</td>\n",
              "      <td>21</td>\n",
              "      <td>28</td>\n",
              "      <td>20970.000000</td>\n",
              "      <td>Medium</td>\n",
              "    </tr>\n",
              "    <tr>\n",
              "      <th>13</th>\n",
              "      <td>0</td>\n",
              "      <td>188.0</td>\n",
              "      <td>2</td>\n",
              "      <td>1</td>\n",
              "      <td>0</td>\n",
              "      <td>0</td>\n",
              "      <td>3</td>\n",
              "      <td>2</td>\n",
              "      <td>0</td>\n",
              "      <td>101.2</td>\n",
              "      <td>176.8</td>\n",
              "      <td>64.8</td>\n",
              "      <td>54.3</td>\n",
              "      <td>2765</td>\n",
              "      <td>3</td>\n",
              "      <td>3</td>\n",
              "      <td>164</td>\n",
              "      <td>5</td>\n",
              "      <td>3.31</td>\n",
              "      <td>3.19</td>\n",
              "      <td>9.0</td>\n",
              "      <td>121.0</td>\n",
              "      <td>4250.0</td>\n",
              "      <td>21</td>\n",
              "      <td>28</td>\n",
              "      <td>21105.000000</td>\n",
              "      <td>Medium</td>\n",
              "    </tr>\n",
              "    <tr>\n",
              "      <th>14</th>\n",
              "      <td>1</td>\n",
              "      <td>122.0</td>\n",
              "      <td>2</td>\n",
              "      <td>1</td>\n",
              "      <td>0</td>\n",
              "      <td>0</td>\n",
              "      <td>3</td>\n",
              "      <td>2</td>\n",
              "      <td>0</td>\n",
              "      <td>103.5</td>\n",
              "      <td>189.0</td>\n",
              "      <td>66.9</td>\n",
              "      <td>55.7</td>\n",
              "      <td>3055</td>\n",
              "      <td>3</td>\n",
              "      <td>3</td>\n",
              "      <td>164</td>\n",
              "      <td>5</td>\n",
              "      <td>3.31</td>\n",
              "      <td>3.19</td>\n",
              "      <td>9.0</td>\n",
              "      <td>121.0</td>\n",
              "      <td>4250.0</td>\n",
              "      <td>20</td>\n",
              "      <td>25</td>\n",
              "      <td>24565.000000</td>\n",
              "      <td>Medium</td>\n",
              "    </tr>\n",
              "    <tr>\n",
              "      <th>15</th>\n",
              "      <td>0</td>\n",
              "      <td>122.0</td>\n",
              "      <td>2</td>\n",
              "      <td>1</td>\n",
              "      <td>0</td>\n",
              "      <td>0</td>\n",
              "      <td>3</td>\n",
              "      <td>2</td>\n",
              "      <td>0</td>\n",
              "      <td>103.5</td>\n",
              "      <td>189.0</td>\n",
              "      <td>66.9</td>\n",
              "      <td>55.7</td>\n",
              "      <td>3230</td>\n",
              "      <td>3</td>\n",
              "      <td>3</td>\n",
              "      <td>209</td>\n",
              "      <td>5</td>\n",
              "      <td>3.62</td>\n",
              "      <td>3.39</td>\n",
              "      <td>8.0</td>\n",
              "      <td>182.0</td>\n",
              "      <td>5400.0</td>\n",
              "      <td>16</td>\n",
              "      <td>22</td>\n",
              "      <td>30760.000000</td>\n",
              "      <td>Medium</td>\n",
              "    </tr>\n",
              "    <tr>\n",
              "      <th>16</th>\n",
              "      <td>0</td>\n",
              "      <td>122.0</td>\n",
              "      <td>2</td>\n",
              "      <td>1</td>\n",
              "      <td>0</td>\n",
              "      <td>1</td>\n",
              "      <td>3</td>\n",
              "      <td>2</td>\n",
              "      <td>0</td>\n",
              "      <td>103.5</td>\n",
              "      <td>193.8</td>\n",
              "      <td>67.9</td>\n",
              "      <td>53.7</td>\n",
              "      <td>3380</td>\n",
              "      <td>3</td>\n",
              "      <td>3</td>\n",
              "      <td>209</td>\n",
              "      <td>5</td>\n",
              "      <td>3.62</td>\n",
              "      <td>3.39</td>\n",
              "      <td>8.0</td>\n",
              "      <td>182.0</td>\n",
              "      <td>5400.0</td>\n",
              "      <td>16</td>\n",
              "      <td>22</td>\n",
              "      <td>41315.000000</td>\n",
              "      <td>High</td>\n",
              "    </tr>\n",
              "    <tr>\n",
              "      <th>17</th>\n",
              "      <td>0</td>\n",
              "      <td>122.0</td>\n",
              "      <td>2</td>\n",
              "      <td>1</td>\n",
              "      <td>0</td>\n",
              "      <td>0</td>\n",
              "      <td>3</td>\n",
              "      <td>2</td>\n",
              "      <td>0</td>\n",
              "      <td>110.0</td>\n",
              "      <td>197.0</td>\n",
              "      <td>70.9</td>\n",
              "      <td>56.3</td>\n",
              "      <td>3505</td>\n",
              "      <td>3</td>\n",
              "      <td>3</td>\n",
              "      <td>209</td>\n",
              "      <td>5</td>\n",
              "      <td>3.62</td>\n",
              "      <td>3.39</td>\n",
              "      <td>8.0</td>\n",
              "      <td>182.0</td>\n",
              "      <td>5400.0</td>\n",
              "      <td>15</td>\n",
              "      <td>20</td>\n",
              "      <td>36880.000000</td>\n",
              "      <td>High</td>\n",
              "    </tr>\n",
              "    <tr>\n",
              "      <th>18</th>\n",
              "      <td>2</td>\n",
              "      <td>121.0</td>\n",
              "      <td>3</td>\n",
              "      <td>1</td>\n",
              "      <td>0</td>\n",
              "      <td>1</td>\n",
              "      <td>2</td>\n",
              "      <td>1</td>\n",
              "      <td>0</td>\n",
              "      <td>88.4</td>\n",
              "      <td>141.1</td>\n",
              "      <td>60.3</td>\n",
              "      <td>53.2</td>\n",
              "      <td>1488</td>\n",
              "      <td>2</td>\n",
              "      <td>4</td>\n",
              "      <td>61</td>\n",
              "      <td>1</td>\n",
              "      <td>2.91</td>\n",
              "      <td>3.03</td>\n",
              "      <td>9.5</td>\n",
              "      <td>48.0</td>\n",
              "      <td>5100.0</td>\n",
              "      <td>47</td>\n",
              "      <td>53</td>\n",
              "      <td>5151.000000</td>\n",
              "      <td>Low</td>\n",
              "    </tr>\n",
              "    <tr>\n",
              "      <th>19</th>\n",
              "      <td>1</td>\n",
              "      <td>98.0</td>\n",
              "      <td>3</td>\n",
              "      <td>1</td>\n",
              "      <td>0</td>\n",
              "      <td>1</td>\n",
              "      <td>2</td>\n",
              "      <td>1</td>\n",
              "      <td>0</td>\n",
              "      <td>94.5</td>\n",
              "      <td>155.9</td>\n",
              "      <td>63.6</td>\n",
              "      <td>52.0</td>\n",
              "      <td>1874</td>\n",
              "      <td>3</td>\n",
              "      <td>2</td>\n",
              "      <td>90</td>\n",
              "      <td>1</td>\n",
              "      <td>3.03</td>\n",
              "      <td>3.11</td>\n",
              "      <td>9.6</td>\n",
              "      <td>70.0</td>\n",
              "      <td>5400.0</td>\n",
              "      <td>38</td>\n",
              "      <td>43</td>\n",
              "      <td>6295.000000</td>\n",
              "      <td>Low</td>\n",
              "    </tr>\n",
              "  </tbody>\n",
              "</table>\n",
              "</div>"
            ],
            "text/plain": [
              "    symboling  normalized-losses  make  ...  highway-mpg         price  binned-Price\n",
              "0           3              122.0     0  ...           27  13495.000000           Low\n",
              "1           3              122.0     0  ...           27  16500.000000           Low\n",
              "2           1              122.0     0  ...           26  16500.000000           Low\n",
              "3           2              164.0     1  ...           30  13950.000000           Low\n",
              "4           2              164.0     1  ...           22  17450.000000           Low\n",
              "5           2              122.0     1  ...           25  15250.000000           Low\n",
              "6           1              158.0     1  ...           25  17710.000000           Low\n",
              "7           1              122.0     1  ...           25  18920.000000        Medium\n",
              "8           1              158.0     1  ...           20  23875.000000        Medium\n",
              "9           0              122.0     1  ...           22  13207.129353           Low\n",
              "10          2              192.0     2  ...           29  16430.000000           Low\n",
              "11          0              192.0     2  ...           29  16925.000000           Low\n",
              "12          0              188.0     2  ...           28  20970.000000        Medium\n",
              "13          0              188.0     2  ...           28  21105.000000        Medium\n",
              "14          1              122.0     2  ...           25  24565.000000        Medium\n",
              "15          0              122.0     2  ...           22  30760.000000        Medium\n",
              "16          0              122.0     2  ...           22  41315.000000          High\n",
              "17          0              122.0     2  ...           20  36880.000000          High\n",
              "18          2              121.0     3  ...           53   5151.000000           Low\n",
              "19          1               98.0     3  ...           43   6295.000000           Low\n",
              "\n",
              "[20 rows x 27 columns]"
            ]
          },
          "metadata": {
            "tags": []
          },
          "execution_count": 35
        }
      ]
    },
    {
      "cell_type": "code",
      "metadata": {
        "id": "Z_ArKuHD9Mln"
      },
      "source": [
        "price=data['price']"
      ],
      "execution_count": null,
      "outputs": []
    },
    {
      "cell_type": "code",
      "metadata": {
        "id": "6pzaEpaM7YwX"
      },
      "source": [
        "binned= data['binned-Price']\n",
        "df= pd.DataFrame({\"price\":price, \"binned_price\":binned})"
      ],
      "execution_count": null,
      "outputs": []
    },
    {
      "cell_type": "code",
      "metadata": {
        "colab": {
          "base_uri": "https://localhost:8080/",
          "height": 947
        },
        "id": "arv7tXYD7piX",
        "outputId": "53fcb7ab-3bf8-4459-96e1-37065671431e"
      },
      "source": [
        "df.head(30)"
      ],
      "execution_count": null,
      "outputs": [
        {
          "output_type": "execute_result",
          "data": {
            "text/html": [
              "<div>\n",
              "<style scoped>\n",
              "    .dataframe tbody tr th:only-of-type {\n",
              "        vertical-align: middle;\n",
              "    }\n",
              "\n",
              "    .dataframe tbody tr th {\n",
              "        vertical-align: top;\n",
              "    }\n",
              "\n",
              "    .dataframe thead th {\n",
              "        text-align: right;\n",
              "    }\n",
              "</style>\n",
              "<table border=\"1\" class=\"dataframe\">\n",
              "  <thead>\n",
              "    <tr style=\"text-align: right;\">\n",
              "      <th></th>\n",
              "      <th>price</th>\n",
              "      <th>binned_price</th>\n",
              "    </tr>\n",
              "  </thead>\n",
              "  <tbody>\n",
              "    <tr>\n",
              "      <th>0</th>\n",
              "      <td>13495.000000</td>\n",
              "      <td>Low</td>\n",
              "    </tr>\n",
              "    <tr>\n",
              "      <th>1</th>\n",
              "      <td>16500.000000</td>\n",
              "      <td>Low</td>\n",
              "    </tr>\n",
              "    <tr>\n",
              "      <th>2</th>\n",
              "      <td>16500.000000</td>\n",
              "      <td>Low</td>\n",
              "    </tr>\n",
              "    <tr>\n",
              "      <th>3</th>\n",
              "      <td>13950.000000</td>\n",
              "      <td>Low</td>\n",
              "    </tr>\n",
              "    <tr>\n",
              "      <th>4</th>\n",
              "      <td>17450.000000</td>\n",
              "      <td>Low</td>\n",
              "    </tr>\n",
              "    <tr>\n",
              "      <th>5</th>\n",
              "      <td>15250.000000</td>\n",
              "      <td>Low</td>\n",
              "    </tr>\n",
              "    <tr>\n",
              "      <th>6</th>\n",
              "      <td>17710.000000</td>\n",
              "      <td>Low</td>\n",
              "    </tr>\n",
              "    <tr>\n",
              "      <th>7</th>\n",
              "      <td>18920.000000</td>\n",
              "      <td>Medium</td>\n",
              "    </tr>\n",
              "    <tr>\n",
              "      <th>8</th>\n",
              "      <td>23875.000000</td>\n",
              "      <td>Medium</td>\n",
              "    </tr>\n",
              "    <tr>\n",
              "      <th>9</th>\n",
              "      <td>13207.129353</td>\n",
              "      <td>Low</td>\n",
              "    </tr>\n",
              "    <tr>\n",
              "      <th>10</th>\n",
              "      <td>16430.000000</td>\n",
              "      <td>Low</td>\n",
              "    </tr>\n",
              "    <tr>\n",
              "      <th>11</th>\n",
              "      <td>16925.000000</td>\n",
              "      <td>Low</td>\n",
              "    </tr>\n",
              "    <tr>\n",
              "      <th>12</th>\n",
              "      <td>20970.000000</td>\n",
              "      <td>Medium</td>\n",
              "    </tr>\n",
              "    <tr>\n",
              "      <th>13</th>\n",
              "      <td>21105.000000</td>\n",
              "      <td>Medium</td>\n",
              "    </tr>\n",
              "    <tr>\n",
              "      <th>14</th>\n",
              "      <td>24565.000000</td>\n",
              "      <td>Medium</td>\n",
              "    </tr>\n",
              "    <tr>\n",
              "      <th>15</th>\n",
              "      <td>30760.000000</td>\n",
              "      <td>Medium</td>\n",
              "    </tr>\n",
              "    <tr>\n",
              "      <th>16</th>\n",
              "      <td>41315.000000</td>\n",
              "      <td>High</td>\n",
              "    </tr>\n",
              "    <tr>\n",
              "      <th>17</th>\n",
              "      <td>36880.000000</td>\n",
              "      <td>High</td>\n",
              "    </tr>\n",
              "    <tr>\n",
              "      <th>18</th>\n",
              "      <td>5151.000000</td>\n",
              "      <td>Low</td>\n",
              "    </tr>\n",
              "    <tr>\n",
              "      <th>19</th>\n",
              "      <td>6295.000000</td>\n",
              "      <td>Low</td>\n",
              "    </tr>\n",
              "    <tr>\n",
              "      <th>20</th>\n",
              "      <td>6575.000000</td>\n",
              "      <td>Low</td>\n",
              "    </tr>\n",
              "    <tr>\n",
              "      <th>21</th>\n",
              "      <td>5572.000000</td>\n",
              "      <td>Low</td>\n",
              "    </tr>\n",
              "    <tr>\n",
              "      <th>22</th>\n",
              "      <td>6377.000000</td>\n",
              "      <td>Low</td>\n",
              "    </tr>\n",
              "    <tr>\n",
              "      <th>23</th>\n",
              "      <td>7957.000000</td>\n",
              "      <td>Low</td>\n",
              "    </tr>\n",
              "    <tr>\n",
              "      <th>24</th>\n",
              "      <td>6229.000000</td>\n",
              "      <td>Low</td>\n",
              "    </tr>\n",
              "    <tr>\n",
              "      <th>25</th>\n",
              "      <td>6692.000000</td>\n",
              "      <td>Low</td>\n",
              "    </tr>\n",
              "    <tr>\n",
              "      <th>26</th>\n",
              "      <td>7609.000000</td>\n",
              "      <td>Low</td>\n",
              "    </tr>\n",
              "    <tr>\n",
              "      <th>27</th>\n",
              "      <td>8558.000000</td>\n",
              "      <td>Low</td>\n",
              "    </tr>\n",
              "    <tr>\n",
              "      <th>28</th>\n",
              "      <td>8921.000000</td>\n",
              "      <td>Low</td>\n",
              "    </tr>\n",
              "    <tr>\n",
              "      <th>29</th>\n",
              "      <td>12964.000000</td>\n",
              "      <td>Low</td>\n",
              "    </tr>\n",
              "  </tbody>\n",
              "</table>\n",
              "</div>"
            ],
            "text/plain": [
              "           price binned_price\n",
              "0   13495.000000          Low\n",
              "1   16500.000000          Low\n",
              "2   16500.000000          Low\n",
              "3   13950.000000          Low\n",
              "4   17450.000000          Low\n",
              "5   15250.000000          Low\n",
              "6   17710.000000          Low\n",
              "7   18920.000000       Medium\n",
              "8   23875.000000       Medium\n",
              "9   13207.129353          Low\n",
              "10  16430.000000          Low\n",
              "11  16925.000000          Low\n",
              "12  20970.000000       Medium\n",
              "13  21105.000000       Medium\n",
              "14  24565.000000       Medium\n",
              "15  30760.000000       Medium\n",
              "16  41315.000000         High\n",
              "17  36880.000000         High\n",
              "18   5151.000000          Low\n",
              "19   6295.000000          Low\n",
              "20   6575.000000          Low\n",
              "21   5572.000000          Low\n",
              "22   6377.000000          Low\n",
              "23   7957.000000          Low\n",
              "24   6229.000000          Low\n",
              "25   6692.000000          Low\n",
              "26   7609.000000          Low\n",
              "27   8558.000000          Low\n",
              "28   8921.000000          Low\n",
              "29  12964.000000          Low"
            ]
          },
          "metadata": {
            "tags": []
          },
          "execution_count": 46
        }
      ]
    },
    {
      "cell_type": "code",
      "metadata": {
        "colab": {
          "base_uri": "https://localhost:8080/",
          "height": 317
        },
        "id": "d1zIzxHgbRp7",
        "outputId": "da004f23-91d7-4021-e1b6-911d66d92786"
      },
      "source": [
        "data.loc[ 10:18, ['price','binned-Price']]"
      ],
      "execution_count": null,
      "outputs": [
        {
          "output_type": "execute_result",
          "data": {
            "text/html": [
              "<div>\n",
              "<style scoped>\n",
              "    .dataframe tbody tr th:only-of-type {\n",
              "        vertical-align: middle;\n",
              "    }\n",
              "\n",
              "    .dataframe tbody tr th {\n",
              "        vertical-align: top;\n",
              "    }\n",
              "\n",
              "    .dataframe thead th {\n",
              "        text-align: right;\n",
              "    }\n",
              "</style>\n",
              "<table border=\"1\" class=\"dataframe\">\n",
              "  <thead>\n",
              "    <tr style=\"text-align: right;\">\n",
              "      <th></th>\n",
              "      <th>price</th>\n",
              "      <th>binned-Price</th>\n",
              "    </tr>\n",
              "  </thead>\n",
              "  <tbody>\n",
              "    <tr>\n",
              "      <th>10</th>\n",
              "      <td>16430.0</td>\n",
              "      <td>Low</td>\n",
              "    </tr>\n",
              "    <tr>\n",
              "      <th>11</th>\n",
              "      <td>16925.0</td>\n",
              "      <td>Low</td>\n",
              "    </tr>\n",
              "    <tr>\n",
              "      <th>12</th>\n",
              "      <td>20970.0</td>\n",
              "      <td>Medium</td>\n",
              "    </tr>\n",
              "    <tr>\n",
              "      <th>13</th>\n",
              "      <td>21105.0</td>\n",
              "      <td>Medium</td>\n",
              "    </tr>\n",
              "    <tr>\n",
              "      <th>14</th>\n",
              "      <td>24565.0</td>\n",
              "      <td>Medium</td>\n",
              "    </tr>\n",
              "    <tr>\n",
              "      <th>15</th>\n",
              "      <td>30760.0</td>\n",
              "      <td>Medium</td>\n",
              "    </tr>\n",
              "    <tr>\n",
              "      <th>16</th>\n",
              "      <td>41315.0</td>\n",
              "      <td>High</td>\n",
              "    </tr>\n",
              "    <tr>\n",
              "      <th>17</th>\n",
              "      <td>36880.0</td>\n",
              "      <td>High</td>\n",
              "    </tr>\n",
              "    <tr>\n",
              "      <th>18</th>\n",
              "      <td>5151.0</td>\n",
              "      <td>Low</td>\n",
              "    </tr>\n",
              "  </tbody>\n",
              "</table>\n",
              "</div>"
            ],
            "text/plain": [
              "      price binned-Price\n",
              "10  16430.0          Low\n",
              "11  16925.0          Low\n",
              "12  20970.0       Medium\n",
              "13  21105.0       Medium\n",
              "14  24565.0       Medium\n",
              "15  30760.0       Medium\n",
              "16  41315.0         High\n",
              "17  36880.0         High\n",
              "18   5151.0          Low"
            ]
          },
          "metadata": {
            "tags": []
          },
          "execution_count": 51
        }
      ]
    },
    {
      "cell_type": "code",
      "metadata": {
        "id": "zAvzV2Jk6CHI"
      },
      "source": [
        "# pd.crosstab(data['price'],data['binned-Price'])"
      ],
      "execution_count": null,
      "outputs": []
    },
    {
      "cell_type": "code",
      "metadata": {
        "colab": {
          "base_uri": "https://localhost:8080/",
          "height": 404
        },
        "id": "QeMeqr_n9iMl",
        "outputId": "74060d64-3be3-4ed4-c9ad-5685ead09b7d"
      },
      "source": [
        "plt.figure(figsize=(7,6))\n",
        "plt.hist(data[\"price\"],bins=3)\n",
        "plt.title(\"Binned-Price\")\n",
        "plt.xlabel(\"Price\")\n",
        "plt.ylabel(\"Count\")\n",
        "plt.show();"
      ],
      "execution_count": null,
      "outputs": [
        {
          "output_type": "display_data",
          "data": {
            "image/png": "[encoded data removed]",
            "text/plain": [
              "<Figure size 504x432 with 1 Axes>"
            ]
          },
          "metadata": {
            "tags": [],
            "needs_background": "light"
          }
        }
      ]
    },
    {
      "cell_type": "markdown",
      "metadata": {
        "id": "KRd7jNtPCfTH"
      },
      "source": [
        "*checking if there is any null values in new column*"
      ]
    },
    {
      "cell_type": "code",
      "metadata": {
        "id": "3mYNtHkQCbPd",
        "colab": {
          "base_uri": "https://localhost:8080/"
        },
        "outputId": "a007ae5c-4205-4311-b21b-4d46bceddf64"
      },
      "source": [
        "data.isna().sum()"
      ],
      "execution_count": null,
      "outputs": [
        {
          "output_type": "execute_result",
          "data": {
            "text/plain": [
              "symboling            0\n",
              "normalized-losses    0\n",
              "make                 0\n",
              "fuel-type            0\n",
              "aspiration           0\n",
              "num-of-doors         0\n",
              "body-style           0\n",
              "drive-wheels         0\n",
              "engine-location      0\n",
              "wheel-base           0\n",
              "length               0\n",
              "width                0\n",
              "height               0\n",
              "curb-weight          0\n",
              "engine-type          0\n",
              "num-of-cylinders     0\n",
              "engine-size          0\n",
              "fuel-system          0\n",
              "bore                 0\n",
              "stroke               0\n",
              "compression-ratio    0\n",
              "horsepower           0\n",
              "peak-rpm             0\n",
              "city-mpg             0\n",
              "highway-mpg          0\n",
              "price                0\n",
              "binned-Price         2\n",
              "dtype: int64"
            ]
          },
          "metadata": {
            "tags": []
          },
          "execution_count": 78
        }
      ]
    },
    {
      "cell_type": "markdown",
      "metadata": {
        "id": "XyYP3xXU_s8C"
      },
      "source": [
        "*dropping null values in binned price*"
      ]
    },
    {
      "cell_type": "code",
      "metadata": {
        "id": "E_C5fS4eCNhs"
      },
      "source": [
        "#can use mode"
      ],
      "execution_count": null,
      "outputs": []
    },
    {
      "cell_type": "code",
      "metadata": {
        "id": "WIcBd9PT_pao"
      },
      "source": [
        "data.dropna(subset =['binned-Price'], axis = 0, inplace =True)\n",
        "data.reset_index(drop = True, inplace =True)"
      ],
      "execution_count": null,
      "outputs": []
    },
    {
      "cell_type": "code",
      "metadata": {
        "colab": {
          "base_uri": "https://localhost:8080/"
        },
        "id": "epOkS2EUC5Uy",
        "outputId": "b9e27807-610d-4583-aa9a-aa24bf414884"
      },
      "source": [
        "data.isna().sum()"
      ],
      "execution_count": null,
      "outputs": [
        {
          "output_type": "execute_result",
          "data": {
            "text/plain": [
              "symboling            0\n",
              "normalized-losses    0\n",
              "make                 0\n",
              "fuel-type            0\n",
              "aspiration           0\n",
              "num-of-doors         0\n",
              "body-style           0\n",
              "drive-wheels         0\n",
              "engine-location      0\n",
              "wheel-base           0\n",
              "length               0\n",
              "width                0\n",
              "height               0\n",
              "curb-weight          0\n",
              "engine-type          0\n",
              "num-of-cylinders     0\n",
              "engine-size          0\n",
              "fuel-system          0\n",
              "bore                 0\n",
              "stroke               0\n",
              "compression-ratio    0\n",
              "horsepower           0\n",
              "peak-rpm             0\n",
              "city-mpg             0\n",
              "highway-mpg          0\n",
              "price                0\n",
              "binned-Price         0\n",
              "dtype: int64"
            ]
          },
          "metadata": {
            "tags": []
          },
          "execution_count": 22
        }
      ]
    },
    {
      "cell_type": "markdown",
      "metadata": {
        "id": "qW9MXOcHC-to"
      },
      "source": [
        "## **Modeling**"
      ]
    },
    {
      "cell_type": "markdown",
      "metadata": {
        "id": "ZkxypO4QDJbH"
      },
      "source": [
        "### Splitting dataset"
      ]
    },
    {
      "cell_type": "code",
      "metadata": {
        "id": "2cUcKpHODNfP"
      },
      "source": [
        "x= data.drop(['price','binned-Price'],axis=1)    \n",
        "y= data['binned-Price']"
      ],
      "execution_count": null,
      "outputs": []
    },
    {
      "cell_type": "code",
      "metadata": {
        "id": "oBLsRDuIDw_Y"
      },
      "source": [
        "from sklearn.metrics import confusion_matrix,accuracy_score,classification_report\n",
        "from sklearn.model_selection import train_test_split"
      ],
      "execution_count": null,
      "outputs": []
    },
    {
      "cell_type": "code",
      "metadata": {
        "id": "PP_T0bwmDbkI"
      },
      "source": [
        "x_train,x_test,y_train,y_test =train_test_split(x,y,random_state=42,test_size=0.3)"
      ],
      "execution_count": null,
      "outputs": []
    },
    {
      "cell_type": "markdown",
      "metadata": {
        "id": "bmatPvv8DeX6"
      },
      "source": [
        "Logistic Regression"
      ]
    },
    {
      "cell_type": "code",
      "metadata": {
        "id": "3n1eHuhjDhQS"
      },
      "source": [
        "from sklearn.linear_model import LogisticRegression\n",
        "LogisticR= LogisticRegression()"
      ],
      "execution_count": null,
      "outputs": []
    },
    {
      "cell_type": "code",
      "metadata": {
        "colab": {
          "base_uri": "https://localhost:8080/"
        },
        "id": "CLPszgD_Dmqg",
        "outputId": "8d01c9a9-769c-4eb4-ecdf-ae1d3b3e7363"
      },
      "source": [
        "LogisticR.fit(x_train,y_train)\n",
        "L_pred= LogisticR.predict(x_test)"
      ],
      "execution_count": null,
      "outputs": [
        {
          "output_type": "execute_result",
          "data": {
            "text/plain": [
              "LogisticRegression(C=1.0, class_weight=None, dual=False, fit_intercept=True,\n",
              "                   intercept_scaling=1, l1_ratio=None, max_iter=100,\n",
              "                   multi_class='auto', n_jobs=None, penalty='l2',\n",
              "                   random_state=None, solver='lbfgs', tol=0.0001, verbose=0,\n",
              "                   warm_start=False)"
            ]
          },
          "metadata": {
            "tags": []
          },
          "execution_count": 84
        }
      ]
    },
    {
      "cell_type": "code",
      "metadata": {
        "colab": {
          "base_uri": "https://localhost:8080/"
        },
        "id": "9RFt_yfcDsNz",
        "outputId": "9b996252-61f4-4790-a8eb-1a6f0a4a6ba9"
      },
      "source": [
        "accuracy_score(y_test,L_pred)"
      ],
      "execution_count": null,
      "outputs": [
        {
          "output_type": "execute_result",
          "data": {
            "text/plain": [
              "0.9180327868852459"
            ]
          },
          "metadata": {
            "tags": []
          },
          "execution_count": 85
        }
      ]
    },
    {
      "cell_type": "code",
      "metadata": {
        "colab": {
          "base_uri": "https://localhost:8080/"
        },
        "id": "10KW9rNHQ5Wa",
        "outputId": "234692ca-b3ce-4d2d-d89b-69f6158e1b35"
      },
      "source": [
        "y_test.value_counts()"
      ],
      "execution_count": null,
      "outputs": [
        {
          "output_type": "execute_result",
          "data": {
            "text/plain": [
              "Low       51\n",
              "Medium     6\n",
              "High       4\n",
              "Name: binned-Price, dtype: int64"
            ]
          },
          "metadata": {
            "tags": []
          },
          "execution_count": 93
        }
      ]
    },
    {
      "cell_type": "code",
      "metadata": {
        "colab": {
          "base_uri": "https://localhost:8080/"
        },
        "id": "LRl99bUZk4df",
        "outputId": "4f610b65-252e-4030-cf55-226dc8dd82ba"
      },
      "source": [
        "from sklearn.metrics import confusion_matrix\n",
        "confusion_matrix(y_test,L_pred)"
      ],
      "execution_count": null,
      "outputs": [
        {
          "output_type": "execute_result",
          "data": {
            "text/plain": [
              "array([[ 4,  0,  0],\n",
              "       [ 1, 50,  0],\n",
              "       [ 1,  3,  2]])"
            ]
          },
          "metadata": {
            "tags": []
          },
          "execution_count": 86
        }
      ]
    },
    {
      "cell_type": "code",
      "metadata": {
        "colab": {
          "base_uri": "https://localhost:8080/"
        },
        "id": "44DZKpWiP4jB",
        "outputId": "c5bfff68-6248-4a33-d7c8-c9516a49d248"
      },
      "source": [
        "print(classification_report(y_test, L_pred))"
      ],
      "execution_count": null,
      "outputs": [
        {
          "output_type": "stream",
          "text": [
            "              precision    recall  f1-score   support\n",
            "\n",
            "        High       0.67      1.00      0.80         4\n",
            "         Low       0.94      0.98      0.96        51\n",
            "      Medium       1.00      0.33      0.50         6\n",
            "\n",
            "    accuracy                           0.92        61\n",
            "   macro avg       0.87      0.77      0.75        61\n",
            "weighted avg       0.93      0.92      0.91        61\n",
            "\n"
          ],
          "name": "stdout"
        }
      ]
    },
    {
      "cell_type": "markdown",
      "metadata": {
        "id": "fEW-xM7LD-8y"
      },
      "source": [
        "RandomForestClassifier"
      ]
    },
    {
      "cell_type": "code",
      "metadata": {
        "colab": {
          "base_uri": "https://localhost:8080/"
        },
        "id": "RBrKUwMED-Z0",
        "outputId": "ffaeb0f0-7883-48f7-8e22-636995a3aed4"
      },
      "source": [
        "from sklearn.ensemble import RandomForestClassifier\n",
        "Rclass=RandomForestClassifier(n_estimators=100,random_state=42)\n",
        "Rclass.fit(x_train,y_train)\n",
        "Rpred=Rclass.predict(x_test)"
      ],
      "execution_count": null,
      "outputs": [
        {
          "output_type": "execute_result",
          "data": {
            "text/plain": [
              "RandomForestClassifier(bootstrap=True, ccp_alpha=0.0, class_weight=None,\n",
              "                       criterion='gini', max_depth=None, max_features='auto',\n",
              "                       max_leaf_nodes=None, max_samples=None,\n",
              "                       min_impurity_decrease=0.0, min_impurity_split=None,\n",
              "                       min_samples_leaf=1, min_samples_split=2,\n",
              "                       min_weight_fraction_leaf=0.0, n_estimators=100,\n",
              "                       n_jobs=None, oob_score=False, random_state=42, verbose=0,\n",
              "                       warm_start=False)"
            ]
          },
          "metadata": {
            "tags": []
          },
          "execution_count": 88
        }
      ]
    },
    {
      "cell_type": "code",
      "metadata": {
        "colab": {
          "base_uri": "https://localhost:8080/"
        },
        "id": "e_91RMDCEERc",
        "outputId": "72e9ced3-8a3b-47fb-9969-836e5d62bdc3"
      },
      "source": [
        "accuracy_score(y_test,Rpred)"
      ],
      "execution_count": null,
      "outputs": [
        {
          "output_type": "execute_result",
          "data": {
            "text/plain": [
              "0.9508196721311475"
            ]
          },
          "metadata": {
            "tags": []
          },
          "execution_count": 89
        }
      ]
    },
    {
      "cell_type": "code",
      "metadata": {
        "colab": {
          "base_uri": "https://localhost:8080/"
        },
        "id": "RSb3HJFvbwGY",
        "outputId": "9cf3a3bf-d52c-44e2-fc75-f4d5c70e5032"
      },
      "source": [
        "y_test.value_counts()"
      ],
      "execution_count": null,
      "outputs": [
        {
          "output_type": "execute_result",
          "data": {
            "text/plain": [
              "Low       51\n",
              "Medium     6\n",
              "High       4\n",
              "Name: binned-Price, dtype: int64"
            ]
          },
          "metadata": {
            "tags": []
          },
          "execution_count": 94
        }
      ]
    },
    {
      "cell_type": "code",
      "metadata": {
        "colab": {
          "base_uri": "https://localhost:8080/"
        },
        "id": "-RjAv7RhpJcW",
        "outputId": "b0ecb180-bc8d-42dd-db25-1e31062c44b6"
      },
      "source": [
        "from sklearn.metrics import confusion_matrix\n",
        "confusion_matrix(y_test,Rpred)"
      ],
      "execution_count": null,
      "outputs": [
        {
          "output_type": "execute_result",
          "data": {
            "text/plain": [
              "array([[ 4,  0,  0],\n",
              "       [ 1, 50,  0],\n",
              "       [ 1,  1,  4]])"
            ]
          },
          "metadata": {
            "tags": []
          },
          "execution_count": 90
        }
      ]
    },
    {
      "cell_type": "code",
      "metadata": {
        "colab": {
          "base_uri": "https://localhost:8080/"
        },
        "id": "MhOwqNqQWaNP",
        "outputId": "fa092363-6e70-4217-ccab-79cd8a393019"
      },
      "source": [
        "print(classification_report(y_test, Rpred))"
      ],
      "execution_count": null,
      "outputs": [
        {
          "output_type": "stream",
          "text": [
            "              precision    recall  f1-score   support\n",
            "\n",
            "        High       0.67      1.00      0.80         4\n",
            "         Low       0.98      0.98      0.98        51\n",
            "      Medium       1.00      0.67      0.80         6\n",
            "\n",
            "    accuracy                           0.95        61\n",
            "   macro avg       0.88      0.88      0.86        61\n",
            "weighted avg       0.96      0.95      0.95        61\n",
            "\n"
          ],
          "name": "stdout"
        }
      ]
    },
    {
      "cell_type": "markdown",
      "metadata": {
        "id": "352EBzwKEISv"
      },
      "source": [
        "DecisionTreeClassifier"
      ]
    },
    {
      "cell_type": "code",
      "metadata": {
        "colab": {
          "base_uri": "https://localhost:8080/"
        },
        "id": "IgEz6s4-EHqK",
        "outputId": "82eee09d-7cad-4323-8b8b-df6cdcd0d6a6"
      },
      "source": [
        "from sklearn.tree import DecisionTreeClassifier\n",
        "DecisionC= DecisionTreeClassifier()\n",
        "DecisionC.fit(x_train,y_train)\n",
        "D_pred= DecisionC.predict(x_test)"
      ],
      "execution_count": null,
      "outputs": [
        {
          "output_type": "execute_result",
          "data": {
            "text/plain": [
              "DecisionTreeClassifier(ccp_alpha=0.0, class_weight=None, criterion='gini',\n",
              "                       max_depth=None, max_features=None, max_leaf_nodes=None,\n",
              "                       min_impurity_decrease=0.0, min_impurity_split=None,\n",
              "                       min_samples_leaf=1, min_samples_split=2,\n",
              "                       min_weight_fraction_leaf=0.0, presort='deprecated',\n",
              "                       random_state=None, splitter='best')"
            ]
          },
          "metadata": {
            "tags": []
          },
          "execution_count": 78
        }
      ]
    },
    {
      "cell_type": "code",
      "metadata": {
        "colab": {
          "base_uri": "https://localhost:8080/"
        },
        "id": "8yvt6jYzENpa",
        "outputId": "81f65ef3-c8d4-4c54-8fec-5f88e652a938"
      },
      "source": [
        "accuracy_score(y_test,D_pred)"
      ],
      "execution_count": null,
      "outputs": [
        {
          "output_type": "execute_result",
          "data": {
            "text/plain": [
              "0.9344262295081968"
            ]
          },
          "metadata": {
            "tags": []
          },
          "execution_count": 79
        }
      ]
    },
    {
      "cell_type": "code",
      "metadata": {
        "colab": {
          "base_uri": "https://localhost:8080/"
        },
        "id": "TtskYBI-poud",
        "outputId": "05bb7766-3469-4d19-8839-649cc8ff2d87"
      },
      "source": [
        "print(classification_report(y_test, D_pred))"
      ],
      "execution_count": null,
      "outputs": [
        {
          "output_type": "stream",
          "text": [
            "              precision    recall  f1-score   support\n",
            "\n",
            "        High       1.00      0.75      0.86         4\n",
            "         Low       0.98      0.96      0.97        51\n",
            "      Medium       0.62      0.83      0.71         6\n",
            "\n",
            "    accuracy                           0.93        61\n",
            "   macro avg       0.87      0.85      0.85        61\n",
            "weighted avg       0.95      0.93      0.94        61\n",
            "\n"
          ],
          "name": "stdout"
        }
      ]
    },
    {
      "cell_type": "markdown",
      "metadata": {
        "id": "40qa4lS0ETcO"
      },
      "source": [
        "GaussianNB"
      ]
    },
    {
      "cell_type": "code",
      "metadata": {
        "colab": {
          "base_uri": "https://localhost:8080/"
        },
        "id": "IZrPzG-sETKi",
        "outputId": "7237d240-6004-417d-c1e3-e812179e1a81"
      },
      "source": [
        "from sklearn.naive_bayes import GaussianNB\n",
        "Gaussian = GaussianNB()\n",
        "Gaussian.fit(x_train,y_train)\n",
        "G_pred = Gaussian.predict(x_test)\n",
        "G_pred"
      ],
      "execution_count": null,
      "outputs": [
        {
          "output_type": "execute_result",
          "data": {
            "text/plain": [
              "GaussianNB(priors=None, var_smoothing=1e-09)"
            ]
          },
          "metadata": {
            "tags": []
          },
          "execution_count": 80
        },
        {
          "output_type": "execute_result",
          "data": {
            "text/plain": [
              "array(['High', 'Medium', 'Medium', 'Low', 'Low', 'Low', 'Low', 'Medium',\n",
              "       'Medium', 'Low', 'Medium', 'Low', 'Low', 'Low', 'Low', 'Low',\n",
              "       'Low', 'Low', 'Low', 'Low', 'Medium', 'Low', 'Low', 'Low', 'High',\n",
              "       'High', 'Low', 'Low', 'Low', 'Low', 'Medium', 'Medium', 'High',\n",
              "       'Medium', 'Low', 'Medium', 'Low', 'Low', 'Low', 'Low', 'Low',\n",
              "       'Medium', 'Low', 'Low', 'Low', 'Low', 'Medium', 'Low', 'Low',\n",
              "       'Low', 'Low', 'Low', 'Low', 'Low', 'High', 'Low', 'Medium', 'Low',\n",
              "       'Medium', 'Low', 'High'], dtype='<U6')"
            ]
          },
          "metadata": {
            "tags": []
          },
          "execution_count": 80
        }
      ]
    },
    {
      "cell_type": "code",
      "metadata": {
        "colab": {
          "base_uri": "https://localhost:8080/"
        },
        "id": "0v6OpmqEEcO3",
        "outputId": "495551de-55f5-4bc6-b85b-01380aff790b"
      },
      "source": [
        "accuracy_score(y_test,G_pred)"
      ],
      "execution_count": null,
      "outputs": [
        {
          "output_type": "execute_result",
          "data": {
            "text/plain": [
              "0.7868852459016393"
            ]
          },
          "metadata": {
            "tags": []
          },
          "execution_count": 81
        }
      ]
    },
    {
      "cell_type": "code",
      "metadata": {
        "colab": {
          "base_uri": "https://localhost:8080/"
        },
        "id": "dS0zNsYGrRgL",
        "outputId": "6206edc3-44cd-4f80-b8f6-e191afbdf18a"
      },
      "source": [
        "print(classification_report(y_test, G_pred))"
      ],
      "execution_count": null,
      "outputs": [
        {
          "output_type": "stream",
          "text": [
            "              precision    recall  f1-score   support\n",
            "\n",
            "        High       0.67      1.00      0.80         4\n",
            "         Low       0.98      0.78      0.87        51\n",
            "      Medium       0.29      0.67      0.40         6\n",
            "\n",
            "    accuracy                           0.79        61\n",
            "   macro avg       0.64      0.82      0.69        61\n",
            "weighted avg       0.89      0.79      0.82        61\n",
            "\n"
          ],
          "name": "stdout"
        }
      ]
    },
    {
      "cell_type": "markdown",
      "metadata": {
        "id": "gjP8dcaqEglw"
      },
      "source": [
        "BernoulliNB"
      ]
    },
    {
      "cell_type": "code",
      "metadata": {
        "colab": {
          "base_uri": "https://localhost:8080/"
        },
        "id": "4fPzo1fSEe7w",
        "outputId": "815ac058-1c06-49a8-c589-df83a05285df"
      },
      "source": [
        "from sklearn.naive_bayes import BernoulliNB\n",
        "Bernoulli=BernoulliNB()\n",
        "Bernoulli.fit(x_train,y_train)\n",
        "B_pred = Bernoulli.predict(x_test)"
      ],
      "execution_count": null,
      "outputs": [
        {
          "output_type": "execute_result",
          "data": {
            "text/plain": [
              "BernoulliNB(alpha=1.0, binarize=0.0, class_prior=None, fit_prior=True)"
            ]
          },
          "metadata": {
            "tags": []
          },
          "execution_count": 82
        }
      ]
    },
    {
      "cell_type": "code",
      "metadata": {
        "colab": {
          "base_uri": "https://localhost:8080/"
        },
        "id": "TqNRLCvdEkeK",
        "outputId": "500be4e7-9b22-4f88-a4f5-1701ed21d97c"
      },
      "source": [
        "accuracy_score(y_test,B_pred)"
      ],
      "execution_count": null,
      "outputs": [
        {
          "output_type": "execute_result",
          "data": {
            "text/plain": [
              "0.8360655737704918"
            ]
          },
          "metadata": {
            "tags": []
          },
          "execution_count": 83
        }
      ]
    },
    {
      "cell_type": "code",
      "metadata": {
        "colab": {
          "base_uri": "https://localhost:8080/"
        },
        "id": "C5l2suVRrnLA",
        "outputId": "cfe0a868-49e1-47e2-a1d8-c3c0c70974fb"
      },
      "source": [
        "print(classification_report(y_test, B_pred))"
      ],
      "execution_count": null,
      "outputs": [
        {
          "output_type": "stream",
          "text": [
            "              precision    recall  f1-score   support\n",
            "\n",
            "        High       0.00      0.00      0.00         4\n",
            "         Low       0.84      1.00      0.91        51\n",
            "      Medium       0.00      0.00      0.00         6\n",
            "\n",
            "    accuracy                           0.84        61\n",
            "   macro avg       0.28      0.33      0.30        61\n",
            "weighted avg       0.70      0.84      0.76        61\n",
            "\n"
          ],
          "name": "stdout"
        }
      ]
    },
    {
      "cell_type": "markdown",
      "metadata": {
        "id": "q4bxg6cpEq1v"
      },
      "source": [
        "XGBClassifier"
      ]
    },
    {
      "cell_type": "code",
      "metadata": {
        "colab": {
          "base_uri": "https://localhost:8080/"
        },
        "id": "sk6PvZ2GEpfV",
        "outputId": "07b5b048-9fb8-4baf-9b12-6736755336e3"
      },
      "source": [
        "from xgboost import XGBClassifier\n",
        "xgb=XGBClassifier()\n",
        "xgb.fit(x_train,y_train)\n",
        "XGB_pred=xgb.predict(x_test)"
      ],
      "execution_count": null,
      "outputs": [
        {
          "output_type": "execute_result",
          "data": {
            "text/plain": [
              "XGBClassifier(base_score=0.5, booster='gbtree', colsample_bylevel=1,\n",
              "              colsample_bynode=1, colsample_bytree=1, gamma=0,\n",
              "              learning_rate=0.1, max_delta_step=0, max_depth=3,\n",
              "              min_child_weight=1, missing=None, n_estimators=100, n_jobs=1,\n",
              "              nthread=None, objective='multi:softprob', random_state=0,\n",
              "              reg_alpha=0, reg_lambda=1, scale_pos_weight=1, seed=None,\n",
              "              silent=None, subsample=1, verbosity=1)"
            ]
          },
          "metadata": {
            "tags": []
          },
          "execution_count": 84
        }
      ]
    },
    {
      "cell_type": "code",
      "metadata": {
        "colab": {
          "base_uri": "https://localhost:8080/"
        },
        "id": "1TwutSSCEvGI",
        "outputId": "97064553-a7fc-4141-888c-4fd5fc901d08"
      },
      "source": [
        "accuracy_score(y_test, XGB_pred)"
      ],
      "execution_count": null,
      "outputs": [
        {
          "output_type": "execute_result",
          "data": {
            "text/plain": [
              "0.9180327868852459"
            ]
          },
          "metadata": {
            "tags": []
          },
          "execution_count": 85
        }
      ]
    },
    {
      "cell_type": "markdown",
      "metadata": {
        "id": "7THkBUzXE7eQ"
      },
      "source": [
        "checking for feature importance"
      ]
    },
    {
      "cell_type": "code",
      "metadata": {
        "colab": {
          "base_uri": "https://localhost:8080/",
          "height": 592
        },
        "id": "ZW1vySuSE5JW",
        "outputId": "ea9b0b50-bcb4-4e6d-e170-8e78f0fa1475"
      },
      "source": [
        "feat_importances = pd.Series(Rclass.feature_importances_, index=x.columns)\n",
        "feat_importances.nlargest(25).plot(kind='barh',figsize=(10,10));"
      ],
      "execution_count": null,
      "outputs": [
        {
          "output_type": "display_data",
          "data": {
            "image/png": "[encoded data removed]",
            "text/plain": [
              "<Figure size 720x720 with 1 Axes>"
            ]
          },
          "metadata": {
            "tags": [],
            "needs_background": "light"
          }
        }
      ]
    },
    {
      "cell_type": "markdown",
      "metadata": {
        "id": "X1wVUQo_E_x9"
      },
      "source": [
        "*can change model to check for feature importance in decision tree,random forest etc*"
      ]
    },
    {
      "cell_type": "code",
      "metadata": {
        "id": "OhOhcw6YFQ22",
        "colab": {
          "base_uri": "https://localhost:8080/"
        },
        "outputId": "30f2a900-8be7-4b3e-e735-51888cb652dd"
      },
      "source": [
        "pd.Series(Rclass.feature_importances_,index=x.columns).sort_values(ascending=False)*100"
      ],
      "execution_count": null,
      "outputs": [
        {
          "output_type": "execute_result",
          "data": {
            "text/plain": [
              "engine-size          12.799546\n",
              "width                10.973279\n",
              "horsepower            8.972075\n",
              "highway-mpg           8.333179\n",
              "num-of-cylinders      7.820569\n",
              "city-mpg              7.355232\n",
              "curb-weight           7.332692\n",
              "make                  4.640680\n",
              "length                4.467733\n",
              "normalized-losses     4.090595\n",
              "peak-rpm              3.268048\n",
              "aspiration            3.022968\n",
              "wheel-base            2.727386\n",
              "stroke                2.420346\n",
              "height                2.189598\n",
              "compression-ratio     2.173307\n",
              "bore                  1.739579\n",
              "symboling             1.467263\n",
              "body-style            1.230733\n",
              "engine-type           0.886542\n",
              "drive-wheels          0.865259\n",
              "engine-location       0.488514\n",
              "num-of-doors          0.410069\n",
              "fuel-type             0.312507\n",
              "fuel-system           0.012300\n",
              "dtype: float64"
            ]
          },
          "metadata": {
            "tags": []
          },
          "execution_count": 90
        }
      ]
    },
    {
      "cell_type": "code",
      "metadata": {
        "colab": {
          "base_uri": "https://localhost:8080/"
        },
        "id": "ObNbRD6DFa8c",
        "outputId": "3ab936e0-12ed-418f-db77-dd0e96daab7c"
      },
      "source": [
        "pd.Series(xgb.feature_importances_,index=x.columns).sort_values(ascending=False)*100"
      ],
      "execution_count": null,
      "outputs": [
        {
          "output_type": "execute_result",
          "data": {
            "text/plain": [
              "width                18.556858\n",
              "length               14.616817\n",
              "engine-type          14.091333\n",
              "engine-size          14.043516\n",
              "aspiration            4.894625\n",
              "peak-rpm              4.784997\n",
              "curb-weight           3.705937\n",
              "horsepower            3.705907\n",
              "symboling             3.627424\n",
              "normalized-losses     3.386172\n",
              "bore                  2.476311\n",
              "city-mpg              2.324186\n",
              "make                  2.265446\n",
              "body-style            2.012968\n",
              "highway-mpg           1.620275\n",
              "compression-ratio     1.078497\n",
              "drive-wheels          1.075086\n",
              "num-of-cylinders      0.894730\n",
              "stroke                0.838914\n",
              "wheel-base            0.000000\n",
              "engine-location       0.000000\n",
              "num-of-doors          0.000000\n",
              "fuel-system           0.000000\n",
              "fuel-type             0.000000\n",
              "height                0.000000\n",
              "dtype: float32"
            ]
          },
          "metadata": {
            "tags": []
          },
          "execution_count": 91
        }
      ]
    },
    {
      "cell_type": "code",
      "metadata": {
        "id": "du482cKSXjGe"
      },
      "source": [
        "data.drop(['engine-location'],axis=1,inplace=True)"
      ],
      "execution_count": null,
      "outputs": []
    },
    {
      "cell_type": "code",
      "metadata": {
        "colab": {
          "base_uri": "https://localhost:8080/"
        },
        "id": "mBzQTsXGXr6W",
        "outputId": "d28e0c31-4d87-4b04-cf11-b4fc30cf6225"
      },
      "source": [
        "from sklearn.linear_model import LogisticRegression\n",
        "LogisticR= LogisticRegression()\n",
        "LogisticR.fit(x_train,y_train)\n",
        "L_pred= LogisticR.predict(x_test)\n",
        "accuracy_score(y_test,L_pred)"
      ],
      "execution_count": null,
      "outputs": [
        {
          "output_type": "execute_result",
          "data": {
            "text/plain": [
              "LogisticRegression(C=1.0, class_weight=None, dual=False, fit_intercept=True,\n",
              "                   intercept_scaling=1, l1_ratio=None, max_iter=100,\n",
              "                   multi_class='auto', n_jobs=None, penalty='l2',\n",
              "                   random_state=None, solver='lbfgs', tol=0.0001, verbose=0,\n",
              "                   warm_start=False)"
            ]
          },
          "metadata": {
            "tags": []
          },
          "execution_count": 99
        },
        {
          "output_type": "execute_result",
          "data": {
            "text/plain": [
              "0.9180327868852459"
            ]
          },
          "metadata": {
            "tags": []
          },
          "execution_count": 99
        }
      ]
    },
    {
      "cell_type": "code",
      "metadata": {
        "id": "wWvBFVA-fDeu"
      },
      "source": [],
      "execution_count": null,
      "outputs": []
    }
  ]
}